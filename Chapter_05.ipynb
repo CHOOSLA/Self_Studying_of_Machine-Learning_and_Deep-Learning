{
  "nbformat": 4,
  "nbformat_minor": 0,
  "metadata": {
    "colab": {
      "name": "Chapter_05",
      "provenance": [],
      "authorship_tag": "ABX9TyM8M3TBTySREuuD1ZmWlLD5",
      "include_colab_link": true
    },
    "kernelspec": {
      "name": "python3",
      "display_name": "Python 3"
    },
    "language_info": {
      "name": "python"
    }
  },
  "cells": [
    {
      "cell_type": "markdown",
      "metadata": {
        "id": "view-in-github",
        "colab_type": "text"
      },
      "source": [
        "<a href=\"https://colab.research.google.com/github/CHOOSLA/Self_Studying_of_Machine-Learning_and_Deep-Learning/blob/main/Chapter_05.ipynb\" target=\"_parent\"><img src=\"https://colab.research.google.com/assets/colab-badge.svg\" alt=\"Open In Colab\"/></a>"
      ]
    },
    {
      "cell_type": "code",
      "metadata": {
        "id": "ktqcrdL55Jxe"
      },
      "source": [
        "################\n",
        "###결정트리#####\n",
        "################\n",
        "\n"
      ],
      "execution_count": null,
      "outputs": []
    }
  ]
}
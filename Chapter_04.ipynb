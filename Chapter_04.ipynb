{
  "nbformat": 4,
  "nbformat_minor": 0,
  "metadata": {
    "colab": {
      "name": "Chapter_04",
      "provenance": [],
      "authorship_tag": "ABX9TyPr/6KcLgBpjUYqpo4l4yLw",
      "include_colab_link": true
    },
    "kernelspec": {
      "name": "python3",
      "display_name": "Python 3"
    },
    "language_info": {
      "name": "python"
    }
  },
  "cells": [
    {
      "cell_type": "markdown",
      "metadata": {
        "id": "view-in-github",
        "colab_type": "text"
      },
      "source": [
        "<a href=\"https://colab.research.google.com/github/CHOOSLA/Self_Studying_of_Machine-Learning_and_Deep-Learning/blob/main/Chapter_04.ipynb\" target=\"_parent\"><img src=\"https://colab.research.google.com/assets/colab-badge.svg\" alt=\"Open In Colab\"/></a>"
      ]
    },
    {
      "cell_type": "code",
      "metadata": {
        "id": "SNpOeF3YagGB",
        "colab": {
          "base_uri": "https://localhost:8080/"
        },
        "outputId": "877b8bda-e62d-4b12-cb59-c8fee865fc08"
      },
      "source": [
        "#로지스틱 회귀\n",
        "\n",
        "#럭키백 만들기\n",
        "#럭키백은 구성품을 모른채 먼저 구매하고, 배송받은 다음에야 비로소 구성품을 알 수 잇는 상품입니다.\n",
        "\n",
        "#럭키백의 확률\n",
        "#럭키백에 들어갈 수 있는 생선은 7개\n",
        "#이번에는 길이 , 높이 , 두께 외에도 대각선 길이와 무게도 사용할 수 있다.\n",
        "\n",
        "\n",
        "#데이터 준비하기\n",
        "import pandas as pd\n",
        "fish = pd.read_csv('https://bit.ly/fish_csv_data')\n",
        "fish.head() #처음 5개의 행을 출력\n",
        "\n",
        "print(pd.unique(fish['Species'])) #Species 값에서 고유한 값을 뽑아냄\n",
        "\n",
        "\n",
        "#여기서 species 열을 타깃으로 만들고 나머지는 입력데이터로 만들겠다\n",
        "fish_input = fish[['Weight','Length','Diagonal','Height','Width']].to_numpy()\n",
        "print(fish_input[:5])\n",
        "\n",
        "fish_target = fish['Species'].to_numpy()\n",
        "\n",
        "from sklearn.model_selection import train_test_split\n",
        "train_input,test_input,train_target,test_target = train_test_split(fish_input,fish_target,random_state=42)\n",
        "\n",
        "from sklearn.preprocessing import StandardScaler\n",
        "\n",
        "ss = StandardScaler()\n",
        "ss.fit(train_input)\n",
        "train_scaled = ss.transform(train_input)\n",
        "test_scaled = ss.transform(test_input)\n",
        "\n",
        "\n",
        "#최근접 이웃 분류기의 확률 예측\n",
        "from sklearn.neighbors import KNeighborsClassifier\n",
        "kn = KNeighborsClassifier(n_neighbors=3)\n",
        "kn.fit(train_scaled,train_target)\n",
        "print(kn.score(train_scaled,train_target))\n",
        "print(kn.score(test_scaled,test_target))\n",
        "\n",
        "#2개 이상의 클래스가 포함된 문제를 다중 분류 ( 정답이 2개이상일 때 )\n",
        "print(kn.classes_) #정답인 것을 출력함 알아서 알파벳 순으로 매겨집니다\n",
        "\n",
        "print(kn.predict(test_scaled[:5]))\n",
        "\n",
        "#예측은 어떤 확률로 만들어 졌을 까요?\n",
        "#사이킷 분류 모델은 predict_proba() 메서드로 클래스별 확률값을 반환합니다\n",
        "\n",
        "import numpy as np\n",
        "proba = kn.predict_proba(test_scaled[:5])\n",
        "print(np.round(proba,decimals=4)) #소수점 네 번째 자리 까지 표시 decimals\n",
        "\n",
        "distances , indexes = kn.kneighbors(test_scaled[3:4])\n",
        "print(train_target[indexes])"
      ],
      "execution_count": 16,
      "outputs": [
        {
          "output_type": "stream",
          "name": "stdout",
          "text": [
            "['Bream' 'Roach' 'Whitefish' 'Parkki' 'Perch' 'Pike' 'Smelt']\n",
            "[[242.      25.4     30.      11.52     4.02  ]\n",
            " [290.      26.3     31.2     12.48     4.3056]\n",
            " [340.      26.5     31.1     12.3778   4.6961]\n",
            " [363.      29.      33.5     12.73     4.4555]\n",
            " [430.      29.      34.      12.444    5.134 ]]\n",
            "0.8907563025210085\n",
            "0.85\n",
            "['Bream' 'Parkki' 'Perch' 'Pike' 'Roach' 'Smelt' 'Whitefish']\n",
            "['Perch' 'Smelt' 'Pike' 'Perch' 'Perch']\n",
            "[[0.     0.     1.     0.     0.     0.     0.    ]\n",
            " [0.     0.     0.     0.     0.     1.     0.    ]\n",
            " [0.     0.     0.     1.     0.     0.     0.    ]\n",
            " [0.     0.     0.6667 0.     0.3333 0.     0.    ]\n",
            " [0.     0.     0.6667 0.     0.3333 0.     0.    ]]\n",
            "[['Roach' 'Perch' 'Perch']]\n"
          ]
        }
      ]
    }
  ]
}
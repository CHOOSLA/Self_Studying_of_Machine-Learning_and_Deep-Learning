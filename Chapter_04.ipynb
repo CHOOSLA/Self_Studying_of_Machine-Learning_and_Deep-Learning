{
  "nbformat": 4,
  "nbformat_minor": 0,
  "metadata": {
    "colab": {
      "name": "Chapter_04",
      "provenance": [],
      "authorship_tag": "ABX9TyNBPAAlme47II0tVqVM9ALs",
      "include_colab_link": true
    },
    "kernelspec": {
      "name": "python3",
      "display_name": "Python 3"
    },
    "language_info": {
      "name": "python"
    }
  },
  "cells": [
    {
      "cell_type": "markdown",
      "metadata": {
        "id": "view-in-github",
        "colab_type": "text"
      },
      "source": [
        "<a href=\"https://colab.research.google.com/github/CHOOSLA/Self_Studying_of_Machine-Learning_and_Deep-Learning/blob/main/Chapter_04.ipynb\" target=\"_parent\"><img src=\"https://colab.research.google.com/assets/colab-badge.svg\" alt=\"Open In Colab\"/></a>"
      ]
    },
    {
      "cell_type": "code",
      "metadata": {
        "id": "SNpOeF3YagGB"
      },
      "source": [
        "#로지스틱 회귀\n",
        "\n"
      ],
      "execution_count": null,
      "outputs": []
    }
  ]
}
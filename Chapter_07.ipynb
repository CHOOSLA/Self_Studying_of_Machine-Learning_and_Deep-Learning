{
  "nbformat": 4,
  "nbformat_minor": 0,
  "metadata": {
    "colab": {
      "name": "Chapter_07",
      "provenance": [],
      "authorship_tag": "ABX9TyOpqseWCJ1Oe7LJ0n7EGR2m",
      "include_colab_link": true
    },
    "kernelspec": {
      "name": "python3",
      "display_name": "Python 3"
    },
    "language_info": {
      "name": "python"
    }
  },
  "cells": [
    {
      "cell_type": "markdown",
      "metadata": {
        "id": "view-in-github",
        "colab_type": "text"
      },
      "source": [
        "<a href=\"https://colab.research.google.com/github/CHOOSLA/Self_Studying_of_Machine-Learning_and_Deep-Learning/blob/main/Chapter_07.ipynb\" target=\"_parent\"><img src=\"https://colab.research.google.com/assets/colab-badge.svg\" alt=\"Open In Colab\"/></a>"
      ]
    },
    {
      "cell_type": "code",
      "metadata": {
        "colab": {
          "base_uri": "https://localhost:8080/"
        },
        "id": "ddtYKodc7I0H",
        "outputId": "6b9ab3bd-a440-4e02-a687-47d213bbd034"
      },
      "source": [
        "#############################\n",
        "########인공 신경망##########\n",
        "#############################\n",
        "\n",
        "#럭키백 행사에 주 고객층인 20대를 타깃으로 이전보다 럭키백의 정확도를 높혀야 한다면?\n",
        "#로지스티 회귀 알고리즘으로 충분할까?\n",
        "\n",
        "#패션 MNIST\n",
        "#판매할 패션 상품의 데이터는 아직 없지만 판매할 상품과 똑같은 데이터를 구할 수 있다면?\n",
        "#MNIST란? 머신러닝과 딥러닝을 처음 배울 때 많이 사용하는 데이터셋이 있다.\n",
        "#머신러닝에서는 붓꽃 데이터셋이 유명하지만, 딥러닝에서는 MNIST 데이터셋이 유명하다\n",
        "#이 데이터는 0~9까지의 숫자로 이루어져 있습니다.\n",
        "#MINIST와 크기,개수가 동일하지만 숫자 대신 패션 아이템으로 이루저니 데이터가 패션 MNIST\n",
        "\n",
        "#텐서플로를 사용해보자\n",
        "from tensorflow import keras\n",
        "(train_input,train_target),(test_input,test_target) = keras.datasets.fashion_mnist.load_data()\n",
        "#keras.datasets.fashion_mnist 모듈 아래 load_data() 라는 친절한 메소드가 있따\n",
        "#왼쪽 폴더아이콘에서 sample_data에서 확인가능\n",
        "\n",
        "print(train_input.shape,train_target.shape)\n",
        "#28x28 크기의 6만개의 사진\n",
        "print(test_input.shape,test_target.shape)\n",
        "#1만개"
      ],
      "execution_count": 4,
      "outputs": [
        {
          "output_type": "stream",
          "name": "stdout",
          "text": [
            "Downloading data from https://storage.googleapis.com/tensorflow/tf-keras-datasets/train-labels-idx1-ubyte.gz\n",
            "32768/29515 [=================================] - 0s 0us/step\n",
            "40960/29515 [=========================================] - 0s 0us/step\n",
            "Downloading data from https://storage.googleapis.com/tensorflow/tf-keras-datasets/train-images-idx3-ubyte.gz\n",
            "26427392/26421880 [==============================] - 0s 0us/step\n",
            "26435584/26421880 [==============================] - 0s 0us/step\n",
            "Downloading data from https://storage.googleapis.com/tensorflow/tf-keras-datasets/t10k-labels-idx1-ubyte.gz\n",
            "16384/5148 [===============================================================================================] - 0s 0us/step\n",
            "Downloading data from https://storage.googleapis.com/tensorflow/tf-keras-datasets/t10k-images-idx3-ubyte.gz\n",
            "4423680/4422102 [==============================] - 0s 0us/step\n",
            "4431872/4422102 [==============================] - 0s 0us/step\n",
            "(60000, 28, 28) (60000,)\n",
            "(10000, 28, 28) (10000,)\n"
          ]
        }
      ]
    },
    {
      "cell_type": "code",
      "metadata": {
        "colab": {
          "base_uri": "https://localhost:8080/",
          "height": 114
        },
        "id": "iSbEVH5i_qlU",
        "outputId": "900d543e-577c-4e0c-f533-7987262eff8a"
      },
      "source": [
        "import matplotlib.pyplot as plt\n",
        "fig,axs = plt.subplots(1,10,figsize=(10,10))\n",
        "for i in range(10):\n",
        "  axs[i].imshow(train_input[i],cmap='gray_r')\n",
        "  axs[i].axis('off')\n",
        "plt.show()\n",
        "\n",
        "print([train_target[i] for i in range(10)])\n",
        "\n",
        "import numpy as np\n",
        "print(np.unique(train_target,return_counts=True))\n"
      ],
      "execution_count": 5,
      "outputs": [
        {
          "output_type": "display_data",
          "data": {
            "image/png": "[encoded data removed]",
            "text/plain": [
              "<Figure size 720x720 with 10 Axes>"
            ]
          },
          "metadata": {
            "needs_background": "light"
          }
        },
        {
          "output_type": "stream",
          "name": "stdout",
          "text": [
            "[9, 0, 0, 3, 0, 2, 7, 2, 5, 5]\n",
            "(array([0, 1, 2, 3, 4, 5, 6, 7, 8, 9], dtype=uint8), array([6000, 6000, 6000, 6000, 6000, 6000, 6000, 6000, 6000, 6000]))\n"
          ]
        }
      ]
    },
    {
      "cell_type": "code",
      "metadata": {
        "colab": {
          "base_uri": "https://localhost:8080/"
        },
        "id": "hDa2eC_VA26b",
        "outputId": "db214df4-b65f-4682-9917-6fe0e7906224"
      },
      "source": [
        "#로지스틱 회귀로 패션 아이템 분류하기\n",
        "#4장 SGDSClassfier 클래스의 loss를 'log'로 지정하여\n",
        "#손실 함수를 최소화하는 확률적 경사 하강법 모델을 만들었다.\n",
        "#'hinge'가 기본 값이다\n",
        "\n",
        "#하지만 사용하기 전에 표준화 전처리 작업 = StandartScalar 를 사용했다.\n",
        "#가장 가파른 방향을 따라 이동하기 때문에 특성 마다 값의 범위가 다르면 어떤 특성은 의미가 없어진다\n",
        "#패션 MNIST의 경우 각 픽셀은 0~255 사이의 정수 값을 가지고 있다. 이런 이미지의 경우 보통 255로 나누어 0~1사이의 값으로\n",
        "#'정규화'한다.\n",
        "#4장에서 보았듯이 SGDClassifier은 2차원 입력을 다루지 못하기 때문에 1차원 배열로 만들어야한다.\n",
        "\n",
        "train_scaled = train_input / 255.0 #실수 값으로 만듦\n",
        "train_scaled = train_scaled.reshape(-1,28*28)\n",
        "print(train_scaled.shape)"
      ],
      "execution_count": 6,
      "outputs": [
        {
          "output_type": "stream",
          "name": "stdout",
          "text": [
            "(60000, 784)\n"
          ]
        }
      ]
    },
    {
      "cell_type": "code",
      "metadata": {
        "colab": {
          "base_uri": "https://localhost:8080/"
        },
        "id": "orjx0RChB9cJ",
        "outputId": "560da74f-20c9-4e9d-9b5c-c550c37de1ec"
      },
      "source": [
        "from sklearn.model_selection import cross_validate\n",
        "from sklearn.linear_model import SGDClassifier\n",
        "sc = SGDClassifier(loss='log',max_iter= 5,random_state=42)\n",
        "scores = cross_validate(sc,train_scaled,train_target,n_jobs=1)\n",
        "print(np.mean(scores['test_score']))\n",
        "#반복 횟수를 5개로 지정 이상이 되어도 딱히 증가하지 않는다.\n",
        "#뭐 이것은 cross_validate로 확인이 가능하겠네요\n",
        "#아니면 반복문으로 matplotlib을 사용해서 그래프로 확인해 보아도 좋겠네요"
      ],
      "execution_count": 7,
      "outputs": [
        {
          "output_type": "stream",
          "name": "stderr",
          "text": [
            "/usr/local/lib/python3.7/dist-packages/sklearn/linear_model/_stochastic_gradient.py:557: ConvergenceWarning: Maximum number of iteration reached before convergence. Consider increasing max_iter to improve the fit.\n",
            "  ConvergenceWarning)\n",
            "/usr/local/lib/python3.7/dist-packages/sklearn/linear_model/_stochastic_gradient.py:557: ConvergenceWarning: Maximum number of iteration reached before convergence. Consider increasing max_iter to improve the fit.\n",
            "  ConvergenceWarning)\n",
            "/usr/local/lib/python3.7/dist-packages/sklearn/linear_model/_stochastic_gradient.py:557: ConvergenceWarning: Maximum number of iteration reached before convergence. Consider increasing max_iter to improve the fit.\n",
            "  ConvergenceWarning)\n",
            "/usr/local/lib/python3.7/dist-packages/sklearn/linear_model/_stochastic_gradient.py:557: ConvergenceWarning: Maximum number of iteration reached before convergence. Consider increasing max_iter to improve the fit.\n",
            "  ConvergenceWarning)\n"
          ]
        },
        {
          "output_type": "stream",
          "name": "stdout",
          "text": [
            "0.8195666666666668\n"
          ]
        },
        {
          "output_type": "stream",
          "name": "stderr",
          "text": [
            "/usr/local/lib/python3.7/dist-packages/sklearn/linear_model/_stochastic_gradient.py:557: ConvergenceWarning: Maximum number of iteration reached before convergence. Consider increasing max_iter to improve the fit.\n",
            "  ConvergenceWarning)\n"
          ]
        }
      ]
    },
    {
      "cell_type": "code",
      "metadata": {
        "id": "TRYKAoiBD40_"
      },
      "source": [
        "#로지스틱 회귀 공식을 떠올려볼까요?\n",
        "# z = a x (weight) + b x (Length) + c x (diagonal) + d x (heights) + e x (width) + f\n",
        "#무게 , 길이 , 대각선, 높이, 부피라는 특성에 a,b,c,d,e라는 가중치와 f 바이어스를 합해\n",
        "#z라는 값을 구하고 로지스틱 함수에 넣어서 퍼센테이지를 구한다.\n",
        "#이것을 패션MNIST에 맞추면 각 픽셀(특성,차원) 마다 가중치가 곱해지고 더해져서 나오겠죠?\n",
        "#그리고 라벨이 지금 10개가 있으니깐 각각의 가중치가 다 달라야 겠죠?\n",
        "#28X28(픽셀의 개수)=784개에 곱해지는 가중치가 다 다르고 X10개의 품목정도의 가중치 개수가 있겟죠?\n",
        "#그러면 7840개의 가중치가 있어야된다는 뜻입니다.\n",
        "#거기서 다중 분류를 위해서면 소프트맥스 함수를 사용해야 하는데\n",
        "#소프트맥스 함수는 모든 z를 다 계산 해야겠죠? 엄청 오래걸립니다\n",
        "\n",
        "\n",
        "##인공신경망\n",
        "#이미지 분류 문제에는 인공 신경망이 잘 어울린다!\n",
        "#가장 기본적인 인공 신경망은 확률적 경사 하강법을 사용하는 로지스틱 회귀와 같습니다.\n",
        "\n",
        "\n",
        "#우리가 각 가중치가 곱해지고 그게 또 더해져서 z가 나오는데\n",
        "#z가 나오는 층을 **출력층**이라고 합니다\n",
        "#인공 신경망에서 z 값을 계산하는 단위를 **뉴런**이라고 합니다 하지만 뉴런에서 일어나는 일은 선형계산이 전부이다\n",
        "#이제는 뉴런이란 표현 대신에 **유닛**이라고 부르는 사람이 더 많아지고 있다.\n",
        "#784개의 픽셀을 x1,x2와 같이 바꾸엇다. 이런 층을 **입력층**이라고 불린다.\n",
        "\n",
        "\n",
        "#어떤 임계값이 있는데 그것을 초과하면 신호를 발산!\n",
        "\n",
        "#텐서플로란? 텐서플로는 구글이 2015년 11월 오픈소스로 공개한 딥러닝 라이브러리\n",
        "#이 때를 기점으로 딥러닝에 대한 개발자의 관심이 늘어났고 알파고가 나오면서 폭발적인 인기!\n",
        "#2019년 9월 2.0 버전이 릴리스 되엇다. 이 책에선 2.X 최신 버전을 사용 코랩에는 이미 설치되어있다.\n",
        "\n",
        "#텐서플로에서는 저수준 API와 고수준 API가 있다. 바로 케라스가 텐서플로의 고수준 API\n",
        "#딥러닝 라이브러리는 GPU를 사용하여 벡터와 행렬연산에 매우 최적화 되어 있다.\n",
        "#케라스 라이브러리는 직접 GPU 연산을 하지 않고 GPU연산을 수행하는 다른 라이브러리를 백엔드로 사용\n",
        "#텐서플로가 케라스의 백엔드 중 하나인것\n",
        "#이외에도 씨아노,CNTK와 같은 여러 딥러닝 라이브러리를 케라스 백엔드로 사용가능하다.\n",
        "#이런 케라스를 멀티-백엔스 케라스라고 부른다.\n",
        "#케라스 API만 익히면 다양한 딥러닝 라이브러리를 입맛에 맞게 골라서 쓸 수 있는 것이다!\n",
        "\n",
        "#그래서 텐서플로 안에 케라스 API가 내장되어 잇다. 텐서플로 2.0에서는 케라스API만 남김"
      ],
      "execution_count": 8,
      "outputs": []
    },
    {
      "cell_type": "code",
      "metadata": {
        "colab": {
          "base_uri": "https://localhost:8080/"
        },
        "id": "Fx1acEE0GL8m",
        "outputId": "68eea5be-fe8e-4a82-d62e-e573f8848ebf"
      },
      "source": [
        "#인공 신경망으로 모델 만들기\n",
        "\n",
        "#여기에서는 앞서 로지스틱 회귀에서 만든 훈련데이터 train_scaled, train_target을 사용하겠다.\n",
        "#로지스틱 회귀에서는 교차 검증(cross_validate)를 사용했지만 인공신경망에서는 검증 세트를 따로 떼어낸다.\n",
        "\n",
        "#이렇게 하는 이유는\n",
        "#1 딥러닝 분야의 데이터셋은 충분히 크기 때문에 검승 점수가 안정적\n",
        "#2 교차 검증을 수행하기에는 훈련시간이 너무 오래 걸린다.\n",
        "#어던 딥러닝 모델은 훈련하는데 몇시간, 심지어 며치이 거릴 수도 있습니다.\n",
        "\n",
        "\n",
        "from sklearn.model_selection import train_test_split\n",
        "train_scaled, val_scaled,train_target,val_target = train_test_split(train_scaled,train_target,test_size=0.2,random_state=42)\n",
        "\n",
        "print(train_scaled.shape,train_target.shape)\n",
        "print(val_scaled.shape,val_target.shape)"
      ],
      "execution_count": 9,
      "outputs": [
        {
          "output_type": "stream",
          "name": "stdout",
          "text": [
            "(48000, 784) (48000,)\n",
            "(12000, 784) (12000,)\n"
          ]
        }
      ]
    },
    {
      "cell_type": "code",
      "metadata": {
        "id": "-Apv-PkOHUdz"
      },
      "source": [
        "#케라스 레이어 패키지 안에는 다양한 층이 준비되어 있습니다.\n",
        "#가장 기본이 되는 층은 **밀집층**입니다.\n",
        "#왜? 784개의 픽셀과 10개의 z를 뽑아내는 뉴런이 모두 연결되어있다.\n",
        "#이게 밀집층\n",
        "\n",
        "#모두 연결하고 있기 때문에 **완전 연결층**이라고도 부른다.\n",
        "\n",
        "#Dense 클래스를 사용해 밀집층을 만들어 보죠. 필요한 매개변수는 뉴런 개수, 뉴련의 출력에 적용할 함수, 입력의 크기입ㄴ다.\n",
        "dense = keras.layers.Dense(10,activation='softmax',input_shape=(784,))\n",
        "#10 = 출력층개수 , 뉴련의 출력에 적용할 함수, 입력의 크기 순\n",
        "#뉴련의 선형 방정식 계산 결과에 적용되는 함수를 **활성화 함수**라고 부른다.\n",
        "\n",
        "model = keras.Sequential(dense)\n",
        "#밀집층을 가진 신경망 모델을 Sequential클래스를 사용해서 만듦"
      ],
      "execution_count": 10,
      "outputs": []
    },
    {
      "cell_type": "code",
      "metadata": {
        "colab": {
          "base_uri": "https://localhost:8080/"
        },
        "id": "mQYEWt64IOv1",
        "outputId": "2e9f3343-f0ac-40ef-b213-14c517be67d0"
      },
      "source": [
        "##인공신경망으로 패션 아이템 분류하기\n",
        "model.compile(loss='sparse_categorical_crossentropy',metrics='accuracy')\n",
        "#이진분류: loss = 'binary_crossentropy'\n",
        "#다중분류: loss = 'categorical_crossentropy'\n",
        "\n",
        "#**원-핫 인코딩** --> p357 조금 많이 김\n",
        "#간단히 말하면 로그 함수를 써서 예측확률을 구하는데\n",
        "#정답에 최대한 가까워질려면 출력층에 0,1,0,~ 처럼 원하는 결과만 1로 만들고 나머지는 0이어야한다.\n",
        "\n",
        "print(train_target[:10])\n",
        "#우리가 보는 타깃은 모두 정수값인데 원핫인코딩을할려면 첫번째 인덱스는 0,0,0,0,0,1,0,0,0,0,0 이렇게 해야되는데\n",
        "#그럴필요가 없는 것이 있음 그게 sparse_categorical_crossentropy 타깃이 정수인 다중 분류 라는 의미 sparse = 희소\n",
        "\n",
        "\n",
        "#이제 두번째 매개변수인 metrics에 알아보자\n",
        "#케라스는 모델이 훈련할 때 기본으로 에포크마다 손실 값을 출력한다.\n",
        "#손실이 줄어드는 것을 보고 훈련이 잘되었다는 것을 알 수 있지만 정확도를 함께 출력하면 좋죠\n",
        "#이를 위해 metirics 매개변수에 정확도 지표를 의미하는 accuracy를 지정"
      ],
      "execution_count": 11,
      "outputs": [
        {
          "output_type": "stream",
          "name": "stdout",
          "text": [
            "[7 3 5 8 6 9 3 3 9 9]\n"
          ]
        }
      ]
    },
    {
      "cell_type": "code",
      "metadata": {
        "colab": {
          "base_uri": "https://localhost:8080/"
        },
        "id": "xAcw7a57KW9I",
        "outputId": "5f0db4a9-6529-4ef4-f192-030128ad0324"
      },
      "source": [
        "model.fit(train_scaled,train_target,epochs=5)\n",
        "#5번 반복해봄"
      ],
      "execution_count": 12,
      "outputs": [
        {
          "output_type": "stream",
          "name": "stdout",
          "text": [
            "Epoch 1/5\n",
            "1500/1500 [==============================] - 3s 1ms/step - loss: 0.6074 - accuracy: 0.7929\n",
            "Epoch 2/5\n",
            "1500/1500 [==============================] - 2s 1ms/step - loss: 0.4785 - accuracy: 0.8386\n",
            "Epoch 3/5\n",
            "1500/1500 [==============================] - 2s 1ms/step - loss: 0.4554 - accuracy: 0.8482\n",
            "Epoch 4/5\n",
            "1500/1500 [==============================] - 2s 1ms/step - loss: 0.4435 - accuracy: 0.8527\n",
            "Epoch 5/5\n",
            "1500/1500 [==============================] - 2s 1ms/step - loss: 0.4375 - accuracy: 0.8547\n"
          ]
        },
        {
          "output_type": "execute_result",
          "data": {
            "text/plain": [
              "<keras.callbacks.History at 0x7f84192be450>"
            ]
          },
          "metadata": {},
          "execution_count": 12
        }
      ]
    },
    {
      "cell_type": "code",
      "metadata": {
        "colab": {
          "base_uri": "https://localhost:8080/"
        },
        "id": "Yq-vhBU3Bfxt",
        "outputId": "d08a7f93-7869-4f32-9d25-bb2b2d7714dc"
      },
      "source": [
        "model.evaluate(val_scaled,val_target)\n",
        "#모델의 성능을 평가 ( 다른 곳에선 cross_validate 를 사용)\n"
      ],
      "execution_count": 13,
      "outputs": [
        {
          "output_type": "stream",
          "name": "stdout",
          "text": [
            "375/375 [==============================] - 1s 1ms/step - loss: 0.4459 - accuracy: 0.8522\n"
          ]
        },
        {
          "output_type": "execute_result",
          "data": {
            "text/plain": [
              "[0.44585156440734863, 0.8521666526794434]"
            ]
          },
          "metadata": {},
          "execution_count": 13
        }
      ]
    },
    {
      "cell_type": "code",
      "metadata": {
        "id": "usrJP3akLIAx"
      },
      "source": [
        "##07-2\n",
        "##2개의 층\n",
        "\n",
        "#다시 케라스 API를 사용해서 패션 MNIST 테이터셋을 불러오겠습니다.\n",
        "from tensorflow import keras\n",
        "(train_input,train_target),(test_input,test_target) = keras.datasets.fashion_mnist.load_data()\n",
        "\n",
        "from sklearn.model_selection import train_test_split\n",
        "train_scaled = train_input/255\n",
        "train_scaled = train_scaled.reshape(-1,28*28)\n",
        "train_scaled,val_scaled,train_target,val_target = train_test_split(train_scaled,train_target,test_size=0.2,random_state=42)\n",
        "\n",
        "#1절에서 만든 신경망 모델과 다른 점은 입력층과 출력층 사이에 밀집층이 추가된 것입니다.\n",
        "#이렇게 입력층과 출력층 사이에 있는 모든 층을 **은닉층**이라고 부릅니다.\n",
        "#은닉층에는 주황색 원으로 활성화 함수가 표시되어 있스빈다.\n",
        "#활성화 함수는 선형방정식의 계산 값에 적용하는 함수입니다.\n",
        "#이전 절에서 출력층에 적용했던 소프트맥스 함수도 활성화 함수 입니다.\n",
        "#출력층에 적용하는 활성화 함수는 종류가 제한되어 있스빈다.\n",
        "#이진 분류일 경우 시그모이드, 다중 분류일 경우 소프트맥스 함수\n",
        "#이에 비해 은닉츠으이 활성화함수는 비교적 자유롭다.\n",
        "#대표적으로 시그모이드 함수와 볼 렐루 함수 등을 사용\n",
        "\n",
        "#시그모이드 활성화 함수를 사용한 은닉층과 소프트맥스 함수를 사용한 출력층을 케라스의 Dense 클래스로 만들어보자\n",
        "dense1 = keras.layers.Dense(100,activation='sigmoid',input_shape=(784,))\n",
        "dense2 = keras.layers.Dense(10,activation='softmax')\n",
        "\n",
        "#dense1이 은닉층이고 100개의 뉴럭을 가진 밀집층이다.\n",
        "#은닉층의 뉴럭 개수를 정하는 데는 특별한 기준이 없기에, 판단에는 상당한 경험이 필요하다.\n",
        "\n",
        "#한가지 제약 사항이라면 출력층의 뉴런보다는 많게 만들어야합니다."
      ],
      "execution_count": 14,
      "outputs": []
    },
    {
      "cell_type": "code",
      "metadata": {
        "colab": {
          "base_uri": "https://localhost:8080/"
        },
        "id": "c6rJLv3kNIPb",
        "outputId": "36c863ed-a6d2-4efe-8ed8-809f26d3f8b7"
      },
      "source": [
        "#심층 신경망 만들기\n",
        "model = keras.Sequential([dense1,dense2])\n",
        "#Sequntial 클래스의 객체를 만들 때 여러개의 층을 추가하려면 이와 같이 dense1과 dense2를 리스트로 만들어 전달한다.\n",
        "#이 리스트는 층을 순서대로 놓아야한다.\n",
        "model.summary()\n",
        "#맨 첫줄에 모델의 이름이 나오고 모델에 들어 있는 층이 나온다.\n",
        "#층 이름을 지정하지 않으면 알아서 dense라고 이름을 정함\n",
        "#출력 크기를 보면 (None,100) 이다. 첫 번째 차원은 샘플의 개수를 나타냅니다.\n",
        "#샘플 개수가 아직 정의되어 있지 않기 때문에 None이다.\n",
        "#왜? 케라스 모델의 fit 메서드에 훈련테이터를 주입하면 이 데이터를 한번에 모두 사용하지 않고\n",
        "#잘게 나누어 여러번에 걸쳐 경사 하강법 단게를 수행한다. 즉, 미니배치 경사 하강법 사용\n",
        "\n",
        "#케라스의 기본 미니배치 크기는 32개이다.\n",
        "#batch_size로 바굴 수 있다.\n",
        "#따라서 샘플 개수를 고정하지 않고 어떤 배치 크기에도 유연하게 대응할 수 있도록 none 으로 설정\n",
        "#이렇게 신경망 층에 입력되거나 출력되는 배열의 첫 번째 차원을 **배치 자원**이라고 한다.\n",
        "\n",
        "#두번째는 출력의 갯수\n",
        "\n",
        "#마지막으로 모델의 파라미터 개수가 잇는데 이층은 Dense 층이므로 입력 픽셀 784개와 100개의 모든 조합에대한 가중치가 있다.\n",
        "#그러고 뉴런마다 1개의 절편이 있다.\n",
        "\n",
        "#즉 784개(픽셀의 개수)의 차원 * 100개의 뉴런 + 100개의 출력\n",
        "#summary 메서드의 마지막에는 총 모델 파라미터 개수와 훈련되는 파라미터 개수가 동일하게 79510개가 나온다.\n",
        "#은닉층과 출력층의 파라미터 개수를 합친 값\n",
        "#간혹 경사 하강법으로 훈련되지 않는 파라미터를 가진 층이 있다. 아래서 알아보자"
      ],
      "execution_count": 15,
      "outputs": [
        {
          "output_type": "stream",
          "name": "stdout",
          "text": [
            "Model: \"sequential_1\"\n",
            "_________________________________________________________________\n",
            "Layer (type)                 Output Shape              Param #   \n",
            "=================================================================\n",
            "dense_1 (Dense)              (None, 100)               78500     \n",
            "_________________________________________________________________\n",
            "dense_2 (Dense)              (None, 10)                1010      \n",
            "=================================================================\n",
            "Total params: 79,510\n",
            "Trainable params: 79,510\n",
            "Non-trainable params: 0\n",
            "_________________________________________________________________\n"
          ]
        }
      ]
    },
    {
      "cell_type": "code",
      "metadata": {
        "colab": {
          "base_uri": "https://localhost:8080/"
        },
        "id": "vwXb4LKoOzpc",
        "outputId": "7b205a9c-4077-450e-930d-5bfb1a355a55"
      },
      "source": [
        "##층을 추가하는 다른 방법\n",
        "\n",
        "model = keras.Sequential([\n",
        "                                 keras.layers.Dense(100,activation='sigmoid',input_shape=(784,),name='hidden'),\n",
        "                                keras.layers.Dense(10,activation='softmax',name='output')],name='패션 MNIST 모델')\n",
        "\n",
        "model.summary()\n",
        "\n",
        "\n",
        "model = keras.Sequential()\n",
        "model.add(keras.layers.Dense(100,activation='sigmoid',input_shape=(784,),name='hidden'))\n",
        "model.add( keras.layers.Dense(10,activation='softmax',name='output'))\n",
        "model.summary()\n",
        "\n",
        "model.compile(loss='sparse_categorical_crossentropy',metrics='accuracy')\n",
        "model.fit(train_scaled,train_target,epochs=5)"
      ],
      "execution_count": 16,
      "outputs": [
        {
          "output_type": "stream",
          "name": "stdout",
          "text": [
            "Model: \"패션 MNIST 모델\"\n",
            "_________________________________________________________________\n",
            "Layer (type)                 Output Shape              Param #   \n",
            "=================================================================\n",
            "hidden (Dense)               (None, 100)               78500     \n",
            "_________________________________________________________________\n",
            "output (Dense)               (None, 10)                1010      \n",
            "=================================================================\n",
            "Total params: 79,510\n",
            "Trainable params: 79,510\n",
            "Non-trainable params: 0\n",
            "_________________________________________________________________\n",
            "Model: \"sequential_2\"\n",
            "_________________________________________________________________\n",
            "Layer (type)                 Output Shape              Param #   \n",
            "=================================================================\n",
            "hidden (Dense)               (None, 100)               78500     \n",
            "_________________________________________________________________\n",
            "output (Dense)               (None, 10)                1010      \n",
            "=================================================================\n",
            "Total params: 79,510\n",
            "Trainable params: 79,510\n",
            "Non-trainable params: 0\n",
            "_________________________________________________________________\n",
            "Epoch 1/5\n",
            "1500/1500 [==============================] - 4s 2ms/step - loss: 0.5594 - accuracy: 0.8086\n",
            "Epoch 2/5\n",
            "1500/1500 [==============================] - 3s 2ms/step - loss: 0.4093 - accuracy: 0.8520\n",
            "Epoch 3/5\n",
            "1500/1500 [==============================] - 3s 2ms/step - loss: 0.3742 - accuracy: 0.8652\n",
            "Epoch 4/5\n",
            "1500/1500 [==============================] - 3s 2ms/step - loss: 0.3529 - accuracy: 0.8709\n",
            "Epoch 5/5\n",
            "1500/1500 [==============================] - 3s 2ms/step - loss: 0.3358 - accuracy: 0.8778\n"
          ]
        },
        {
          "output_type": "execute_result",
          "data": {
            "text/plain": [
              "<keras.callbacks.History at 0x7f841924a510>"
            ]
          },
          "metadata": {},
          "execution_count": 16
        }
      ]
    },
    {
      "cell_type": "code",
      "metadata": {
        "colab": {
          "base_uri": "https://localhost:8080/"
        },
        "id": "7m0VPtpKQnWU",
        "outputId": "b9f55585-a384-4e06-cf1e-49d84e9ce72a"
      },
      "source": [
        "##렐루함수\n",
        "\n",
        "#초창기 인공 신경망의 은닉츠엥 많이 사용된 활성화함수는 시그모이드였지만\n",
        "#시그모이드는 오른쪽과 왼쪽 끝으로 갈수록 그래프가 누워있기 때문에 올바른 출력을 만드는데 신속하게 대응하지 못한다.\n",
        "\n",
        "\n",
        "#이를 개선하기 위해 다른 종류의 활성화 함수가 제안되었다.\n",
        "#그게 바로 렐루 함수.\n",
        "#렐루 함수는 아주 간단하다.\n",
        "#입력이 양수일 경우 마치 활성화 함수가 없는 것처럼 그냥 입력을 통과시키고\n",
        "#음수일 경우는 0으로 만든다.\n",
        "\n",
        "#렐루함수는 max(0,z)와 같이 쓸 수 있죠 z가 0보다 크면 z를 출력하고 0보다 작으면 0을 출력\n",
        "#렐루 함수는 이미지 처리에서 좋은 성능을 낸다고 알려져있다.\n",
        "\n",
        "#minist데이터는 28*28 크기이기 때문에 인공 신경망에 주입하기 위해 넘파이 배열의 reshpae()메서드를 사용해 1차원으로 펼쳤지만\n",
        "#케라스는 이를 위한 Flatten 층을 제공한다!!!\n",
        "#Flatten 클래스는 배치 차원을 제외하고 나머지 입력 차원을 모두 일렬로 펼치는 역할만 한다.\n",
        "model = keras.Sequential()\n",
        "model.add(keras.layers.Flatten(input_shape=(28,28)))#입력층\n",
        "model.add(keras.layers.Dense(100,activation='relu'))#은닉층\n",
        "model.add(keras.layers.Dense(10,activation='softmax'))#출력층\n",
        "\n",
        "model.summary()\n",
        "\n",
        "#첫 번재 등장하는 Flatten 클래스에 포함된 모델 파라미터는 0개이다.\n",
        "#케라스의 Flatten층을 신경망 모델에 추가하면 입력값의 차원을 짐작할 수 있는 것이 또 하나의 장점\n",
        "#앞의 출력에서 784개의 입력이 첫 번째 은닉층에 전달된 다는 것을 알 우수 있었지만\n",
        "#이전에 만들었던 모델에서는 쉽게 눈치채기 어려웠습니다.\n",
        "#입력 데이터에 대한 전처리 과정을 가능한 모델에 포함시키는 것이 케라스 api 철학 중 하나\n",
        "\n",
        "(train_input,train_target),(test_input,test_target)= keras.datasets.fashion_mnist.load_data()\n",
        "train_scaled = train_input /255.0\n",
        "train_scaled,val_scaled,train_target,val_target = train_test_split(train_scaled,train_target,test_size=0.2,random_state=42)\n",
        "\n",
        "model.compile(loss='sparse_categorical_crossentropy',metrics='accuracy')\n",
        "model.fit(train_scaled,train_target,epochs=5)\n",
        "#시그모이드 함수보다 약간 향상"
      ],
      "execution_count": 17,
      "outputs": [
        {
          "output_type": "stream",
          "name": "stdout",
          "text": [
            "Model: \"sequential_3\"\n",
            "_________________________________________________________________\n",
            "Layer (type)                 Output Shape              Param #   \n",
            "=================================================================\n",
            "flatten (Flatten)            (None, 784)               0         \n",
            "_________________________________________________________________\n",
            "dense_3 (Dense)              (None, 100)               78500     \n",
            "_________________________________________________________________\n",
            "dense_4 (Dense)              (None, 10)                1010      \n",
            "=================================================================\n",
            "Total params: 79,510\n",
            "Trainable params: 79,510\n",
            "Non-trainable params: 0\n",
            "_________________________________________________________________\n",
            "Epoch 1/5\n",
            "1500/1500 [==============================] - 4s 2ms/step - loss: 0.5301 - accuracy: 0.8124\n",
            "Epoch 2/5\n",
            "1500/1500 [==============================] - 3s 2ms/step - loss: 0.3917 - accuracy: 0.8593\n",
            "Epoch 3/5\n",
            "1500/1500 [==============================] - 3s 2ms/step - loss: 0.3561 - accuracy: 0.8710\n",
            "Epoch 4/5\n",
            "1500/1500 [==============================] - 3s 2ms/step - loss: 0.3349 - accuracy: 0.8799\n",
            "Epoch 5/5\n",
            "1500/1500 [==============================] - 3s 2ms/step - loss: 0.3202 - accuracy: 0.8866\n"
          ]
        },
        {
          "output_type": "execute_result",
          "data": {
            "text/plain": [
              "<keras.callbacks.History at 0x7f8419106090>"
            ]
          },
          "metadata": {},
          "execution_count": 17
        }
      ]
    },
    {
      "cell_type": "code",
      "metadata": {
        "colab": {
          "base_uri": "https://localhost:8080/"
        },
        "id": "gjjsCW7oS9sc",
        "outputId": "8391b07a-5946-428d-e8b9-e7e8d0537299"
      },
      "source": [
        "model.evaluate(val_scaled,val_target)"
      ],
      "execution_count": 18,
      "outputs": [
        {
          "output_type": "stream",
          "name": "stdout",
          "text": [
            "375/375 [==============================] - 1s 1ms/step - loss: 0.3746 - accuracy: 0.8727\n"
          ]
        },
        {
          "output_type": "execute_result",
          "data": {
            "text/plain": [
              "[0.3745909333229065, 0.8727499842643738]"
            ]
          },
          "metadata": {},
          "execution_count": 18
        }
      ]
    },
    {
      "cell_type": "code",
      "metadata": {
        "colab": {
          "base_uri": "https://localhost:8080/"
        },
        "id": "VhyIkFFXTHR2",
        "outputId": "1b9a7fd7-86e0-4cad-9b54-815a5a905078"
      },
      "source": [
        "##옵티마이저\n",
        "#3장에서 하이퍼파라미터는 모델이 학습하지 않아 사람이 지정해주어야 하는 파라미터라고 설명\n",
        "#신경망에서는 특히 하이퍼파라미터가 ㅁ낳다.\n",
        "#지금가지 다룬 하이퍼파라미터는 은닉층의 개수, 뉴런 개수, 활성화 함수, 층의 종류, 배치 사이즈 매개변수, 에포크 매개변수 등이 있다.\n",
        "\n",
        "#은닉층을 여러개 추가할 수 있다.\n",
        "#은닉층의 개수는 모델이 학습하는 것이 아니라 우리가 지정해 주어야 할 하이퍼파라미터!!\n",
        "#그럼 은닉층의 뉴런 개수도 하이퍼파라미터? yes...\n",
        "\n",
        "#케라스는 기본적으로 미니배치 경사하강법을 사용하며 미니배치 개수는 32개\n",
        "#fit()메서드의 batch_size 매개변수에서 이를 조정할 수 잇다.\n",
        "#compile() 메서드는 케라스의 기본 경사 하강법 알고리즘인 RMSprop을 사용했다.\n",
        "#케라스는 다양한 종류의 경사 하강법 알고리즘을 제공한다.\n",
        "#이들을 옵티마이저라고 부른다.\n",
        "#RMSprop의 학습률 또한 조정할 하이퍼파라미터 중 하나.\n",
        "\n",
        "\n",
        "#처음부터 최적값을 찾는 것은 어려운 작업이ㅏㄷ.\n",
        "#여기서는 여거라지 옵티마이저를 테스트해보겠습니다.\n",
        "\n",
        "model.compile(optimizer='sgd',loss='sparse_categorical_crossentropy',metrics='accuracy')\n",
        "#'sgd' 문자열은 이클래스의 기본 설정 매개변수로 생성한 객체와 동일합니다.\n",
        "\n",
        "\n",
        "sgd = keras.optimizers.SGD() #이 옵티마이저는 구현되어있다.\n",
        "model.compile(optimizer=sgd,loss='sparse_categorical_crossentropy',metrics='accuracy')\n",
        "#완전히 동일 위랑\n",
        "\n",
        "sgd = keras.optimizers.SGD(learning_rate=0.1) #학습률 조정\n",
        "#ㄱ본 경사 하강법 옵티마이저는 모두 sgd클래스에서 제공\n",
        "#sdg 클래스의 momentum 매개변수의 기본값은 0 입니다.\n",
        "#이를 0보다 큰 값으로 지정하면 마치 이전의 그레이디언트를 가속도 처럼 사용하는\n",
        "#모멘텀 최적화를 사용\n",
        "#보통 모멘텀 매개변수는 0,9이상ㅇ을 지정\n",
        "#다음처럼 sgd클래스의 nestorov 매개변수를 기본값 false에서 true로 바꾸면\n",
        "#네스테로프 모멘텀 최적화를 사용\n",
        "\n",
        "sgd= keras.optimizers.SGD(momentum=0.9,nesterov=True)\n",
        "#네스테로프 모멘텀은 모멘텀 최적화를 2번 반복하여 구현\n",
        "#대부분으 ㅣ경우 네스테로프 모멘텀 최적화가 기본 확률적 경사 하강법 보다 더 나은 성능으 제공한다.\n",
        "\n",
        "#모델이 최적점에 가까이 갈수록 학습률을 낮출 수 있습니다.\n",
        "#이렇게하면 안정적으로 최적점에 수렴할 가능성이 높다.\n",
        "#이런 학습률을 적응적 학습률\n",
        "#이런 방식들은 학슬률 매개변수를 ㅎ튜닝하는 수고를 덜 수 있는 것이 장점\n",
        "\n",
        "#적응적 합습률을 사용하는 대표적인 옵티마이저는 Adagrad와 RMSprop\n",
        "adagrad = keras.optimizers.Adagrad()\n",
        "model.compile(optimizer=adagrad,loss='sparse_categorical_crossentropy',metrics='accuracy')\n",
        "rmsprop = keras.optimizers.RMSprop()\n",
        "model.compile(optimizer=rmsprop,loss='sparse_categorical_crossentropy',metrics='accuracy')\n",
        "\n",
        "#모멘텀 최적화(이전의 그레이디언트를 가속도처럼 사용)와 RMSprop(적응적 학습률)을 합한게\n",
        "#Adam\n",
        "#이 3개의 클래스는 학습률이 모두 0.001dmf tkdyd\n",
        "#어렵다....\n",
        "\n",
        "\n",
        "model = keras.Sequential()\n",
        "model.add(keras.layers.Flatten(input_shape=(28,28)))\n",
        "model.add(keras.layers.Dense(100,activation='relu'))\n",
        "model.add(keras.layers.Dense(10,activation='softmax'))\n",
        "\n",
        "model.compile(optimizer='adam',loss='sparse_categorical_crossentropy',metrics='accuracy')\n",
        "model.fit(train_scaled,train_target,epochs=5)\n",
        "#거의 같다\n",
        "\n",
        "model.evaluate(val_scaled,val_target)\n",
        "#조금 더 나은 결과"
      ],
      "execution_count": 19,
      "outputs": [
        {
          "output_type": "stream",
          "name": "stdout",
          "text": [
            "Epoch 1/5\n",
            "1500/1500 [==============================] - 3s 2ms/step - loss: 0.5228 - accuracy: 0.8195\n",
            "Epoch 2/5\n",
            "1500/1500 [==============================] - 3s 2ms/step - loss: 0.3923 - accuracy: 0.8599\n",
            "Epoch 3/5\n",
            "1500/1500 [==============================] - 3s 2ms/step - loss: 0.3513 - accuracy: 0.8724\n",
            "Epoch 4/5\n",
            "1500/1500 [==============================] - 3s 2ms/step - loss: 0.3267 - accuracy: 0.8815\n",
            "Epoch 5/5\n",
            "1500/1500 [==============================] - 3s 2ms/step - loss: 0.3079 - accuracy: 0.8882\n",
            "375/375 [==============================] - 1s 1ms/step - loss: 0.3613 - accuracy: 0.8708\n"
          ]
        },
        {
          "output_type": "execute_result",
          "data": {
            "text/plain": [
              "[0.3613111078739166, 0.8708333373069763]"
            ]
          },
          "metadata": {},
          "execution_count": 19
        }
      ]
    },
    {
      "cell_type": "code",
      "metadata": {
        "colab": {
          "base_uri": "https://localhost:8080/",
          "height": 549
        },
        "id": "JNYRPdhbWxI1",
        "outputId": "405d2c0d-ff63-4a53-f922-cf66b239f73c"
      },
      "source": [
        "##07-3\n",
        "#신경망 모델 훈련\n",
        "\n",
        "#사실 신경망모델의 fit은 히스토리를 반환함\n",
        "def model_fn(a_layer=None):\n",
        "  model = keras.Sequential()\n",
        "  model.add(keras.layers.Flatten(input_shape=(28,28)))\n",
        "  model.add(keras.layers.Dense(100,activation='relu'))\n",
        "  if a_layer:\n",
        "    model.add(a_layer)\n",
        "  model.add(keras.layers.Dense(10,activation='softmax'))\n",
        "  return model\n",
        "\n",
        "#신경망 모델에 또 은닉층을 추가하는 함수\n",
        "\n",
        "model = model_fn()\n",
        "model.summary()\n",
        "\n",
        "model.compile(loss='sparse_categorical_crossentropy',metrics='accuracy')\n",
        "history = model.fit(train_scaled,train_target,epochs=5,verbose=0)\n",
        "#verbose =0 이란 0으로 지정하면 훈련과정을 나타내지 않음\n",
        "print(history.history.keys())\n",
        "\n",
        "import matplotlib.pyplot as plt\n",
        "plt.plot(history.history['loss'])\n",
        "plt.xlabel('epoch')\n",
        "plt.ylabel('loss')\n",
        "plt.show() #보면 엘보우가 보인다\n"
      ],
      "execution_count": 20,
      "outputs": [
        {
          "output_type": "stream",
          "name": "stdout",
          "text": [
            "Model: \"sequential_5\"\n",
            "_________________________________________________________________\n",
            "Layer (type)                 Output Shape              Param #   \n",
            "=================================================================\n",
            "flatten_2 (Flatten)          (None, 784)               0         \n",
            "_________________________________________________________________\n",
            "dense_7 (Dense)              (None, 100)               78500     \n",
            "_________________________________________________________________\n",
            "dense_8 (Dense)              (None, 10)                1010      \n",
            "=================================================================\n",
            "Total params: 79,510\n",
            "Trainable params: 79,510\n",
            "Non-trainable params: 0\n",
            "_________________________________________________________________\n",
            "dict_keys(['loss', 'accuracy'])\n"
          ]
        },
        {
          "output_type": "display_data",
          "data": {
            "image/png": "[encoded data removed]",
            "text/plain": [
              "<Figure size 432x288 with 1 Axes>"
            ]
          },
          "metadata": {
            "needs_background": "light"
          }
        }
      ]
    },
    {
      "cell_type": "code",
      "metadata": {
        "colab": {
          "base_uri": "https://localhost:8080/",
          "height": 279
        },
        "id": "Zdz0mQO3YemJ",
        "outputId": "33953f9f-f37e-4f81-ae93-5b17d3895fa9"
      },
      "source": [
        "plt.plot(history.history['accuracy'])\n",
        "plt.xlabel('epoch')\n",
        "plt.ylabel('loss')\n",
        "plt.show() "
      ],
      "execution_count": 21,
      "outputs": [
        {
          "output_type": "display_data",
          "data": {
            "image/png": "[encoded data removed]",
            "text/plain": [
              "<Figure size 432x288 with 1 Axes>"
            ]
          },
          "metadata": {
            "needs_background": "light"
          }
        }
      ]
    },
    {
      "cell_type": "code",
      "metadata": {
        "colab": {
          "base_uri": "https://localhost:8080/",
          "height": 279
        },
        "id": "SroMNYUSYkug",
        "outputId": "5e23f3eb-0b33-46f1-c2d4-25927809f367"
      },
      "source": [
        "model = model_fn()\n",
        "model.compile(loss='sparse_categorical_crossentropy',metrics='accuracy')\n",
        "history = model.fit(train_scaled,train_target,epochs=20,verbose=0)\n",
        "plt.plot(history.history['loss'])\n",
        "plt.xlabel('epoch')\n",
        "plt.ylabel('loss')\n",
        "plt.show()"
      ],
      "execution_count": 22,
      "outputs": [
        {
          "output_type": "display_data",
          "data": {
            "image/png": "[encoded data removed]",
            "text/plain": [
              "<Figure size 432x288 with 1 Axes>"
            ]
          },
          "metadata": {
            "needs_background": "light"
          }
        }
      ]
    },
    {
      "cell_type": "code",
      "metadata": {
        "colab": {
          "base_uri": "https://localhost:8080/",
          "height": 297
        },
        "id": "a7W8lVq2ZKNr",
        "outputId": "7ed336a5-d836-4128-9115-9c3ec3edcf36"
      },
      "source": [
        "#인공 신경망 모델이 최적하 하는 대상은 정확도가 아니라 손실함수에 최적화해야함\n",
        "#모델이 잘 훈련되는지 판단하려면 손실함수를 봐야됨\n",
        "\n",
        "model = model_fn()\n",
        "model.compile(loss='sparse_categorical_crossentropy',metrics='accuracy')\n",
        "history = model.fit(train_scaled,train_target,epochs=20,verbose=0,validation_data=(val_scaled,val_target))\n",
        "print(history.history.keys())\n",
        "\n",
        "plt.plot(history.history['loss'])\n",
        "plt.plot(history.history['val_loss'])\n",
        "plt.xlabel('epoch')\n",
        "plt.ylabel('loss')\n",
        "plt.legend(['train','val'])\n",
        "plt.show()\n",
        "##반복할 수록 과대접합이 되는것을 확인할 수 있다"
      ],
      "execution_count": 23,
      "outputs": [
        {
          "output_type": "stream",
          "name": "stdout",
          "text": [
            "dict_keys(['loss', 'accuracy', 'val_loss', 'val_accuracy'])\n"
          ]
        },
        {
          "output_type": "display_data",
          "data": {
            "image/png": "[encoded data removed]",
            "text/plain": [
              "<Figure size 432x288 with 1 Axes>"
            ]
          },
          "metadata": {
            "needs_background": "light"
          }
        }
      ]
    },
    {
      "cell_type": "code",
      "metadata": {
        "colab": {
          "base_uri": "https://localhost:8080/",
          "height": 279
        },
        "id": "eHnOHHHdv9_u",
        "outputId": "534dc130-921e-400e-ae16-610422ea93dd"
      },
      "source": [
        "model = model_fn()\n",
        "\n",
        "model.compile(optimizer='adam',loss='sparse_categorical_crossentropy',metrics='accuracy')\n",
        "history = model.fit(train_scaled,train_target,epochs=20,verbose=0,validation_data=(val_scaled,val_target))\n",
        "plt.plot(history.history['loss'])\n",
        "plt.plot(history.history['val_loss'])\n",
        "plt.xlabel('epoch')\n",
        "plt.ylabel('val')\n",
        "plt.legend(['train','val'])\n",
        "plt.show()\n",
        "#옵티마이저를 adam으로 바꿨더니 과대적합이 약간 해결됬다"
      ],
      "execution_count": 29,
      "outputs": [
        {
          "output_type": "display_data",
          "data": {
            "image/png": "[encoded data removed]",
            "text/plain": [
              "<Figure size 432x288 with 1 Axes>"
            ]
          },
          "metadata": {
            "needs_background": "light"
          }
        }
      ]
    },
    {
      "cell_type": "code",
      "metadata": {
        "colab": {
          "base_uri": "https://localhost:8080/"
        },
        "id": "RBxy9-0L0OIX",
        "outputId": "5de55af7-cb1a-4574-fa3d-0d9053b7a1d6"
      },
      "source": [
        "#드롭아웃\n",
        "\n",
        "#훈련 과정에서 층에 있는 일부 뉴런을 랜덤하게 꺼서 과대적합을 막는다.\n",
        "#5장에서 보았듯이 드롭아웃을 적용해 훈련하는 것은 마치 2개의 신명알 앙상블 하는 것 처럼 상상할 수 있습니다.\n",
        "#5장에서 보았듯이 앙상블은 과대적합을 막아 주는 아주 좋은 기법입니다.\n",
        "#앙상블 학습은 더 좋은 예측 결과를 만들기 위해 여러개의 모델을 훈련하는 머신러닝 알고리즘을 말한다.\n",
        "\n",
        "model = model_fn(keras.layers.Dropout(0.3))\n",
        "model.summary()"
      ],
      "execution_count": 31,
      "outputs": [
        {
          "output_type": "stream",
          "name": "stdout",
          "text": [
            "Model: \"sequential_15\"\n",
            "_________________________________________________________________\n",
            "Layer (type)                 Output Shape              Param #   \n",
            "=================================================================\n",
            "flatten_12 (Flatten)         (None, 784)               0         \n",
            "_________________________________________________________________\n",
            "dense_27 (Dense)             (None, 100)               78500     \n",
            "_________________________________________________________________\n",
            "dropout_1 (Dropout)          (None, 100)               0         \n",
            "_________________________________________________________________\n",
            "dense_28 (Dense)             (None, 10)                1010      \n",
            "=================================================================\n",
            "Total params: 79,510\n",
            "Trainable params: 79,510\n",
            "Non-trainable params: 0\n",
            "_________________________________________________________________\n"
          ]
        }
      ]
    },
    {
      "cell_type": "code",
      "metadata": {
        "colab": {
          "base_uri": "https://localhost:8080/",
          "height": 279
        },
        "id": "E7Eg-6S51aSq",
        "outputId": "d54c58e4-8bdf-4e92-ae10-3624639483a2"
      },
      "source": [
        "model.compile(optimizer='adam',loss='sparse_categorical_crossentropy',metrics='accuracy')\n",
        "history = model.fit(train_scaled,train_target,epochs=20,verbose=0,validation_data=(val_scaled,val_target))\n",
        "plt.plot(history.history['loss'])\n",
        "plt.plot(history.history['val_loss'])\n",
        "plt.xlabel('epoch')\n",
        "plt.ylabel('loss')\n",
        "plt.legend(['train','val'])\n",
        "plt.show()\n",
        "##검증을 할 때는 자동으로 드롭아웃을 뺀다"
      ],
      "execution_count": 33,
      "outputs": [
        {
          "output_type": "display_data",
          "data": {
            "image/png": "[encoded data removed]",
            "text/plain": [
              "<Figure size 432x288 with 1 Axes>"
            ]
          },
          "metadata": {
            "needs_background": "light"
          }
        }
      ]
    },
    {
      "cell_type": "code",
      "metadata": {
        "colab": {
          "base_uri": "https://localhost:8080/"
        },
        "id": "NLPNYkIE3BKk",
        "outputId": "3fb9cd9b-f6aa-4afe-c3a2-1c0c921c2206"
      },
      "source": [
        "##모델 저장과 복원\n",
        "model = model_fn(keras.layers.Dropout(0.3))\n",
        "model.compile(optimizer='adam',loss='sparse_categorical_crossentropy',metrics='accuracy')\n",
        "history = model.fit(train_scaled,train_target,epochs=10,verbose=0,validation_data=(val_scaled,val_target))\n",
        "model.save_weights('model-weights.h5')\n",
        "model.save('model-whole.h5')\n",
        "!ls -al *.h5"
      ],
      "execution_count": 37,
      "outputs": [
        {
          "output_type": "stream",
          "name": "stdout",
          "text": [
            "-rw-r--r-- 1 root root 332480 Oct 28 12:49 model-weights.h5\n",
            "-rw-r--r-- 1 root root 981736 Oct 28 12:49 model-whole.h5\n"
          ]
        }
      ]
    },
    {
      "cell_type": "code",
      "metadata": {
        "id": "PV5uuJB-8oqw"
      },
      "source": [
        "model = model_fn(keras.layers.Dropout(0.3))\n",
        "model.load_weights('model-weights.h5')\n",
        "#저장했던 가중치를 다시 불러왔다"
      ],
      "execution_count": 39,
      "outputs": []
    },
    {
      "cell_type": "code",
      "metadata": {
        "colab": {
          "base_uri": "https://localhost:8080/"
        },
        "id": "mPscOonB893d",
        "outputId": "07c2fabe-b95f-410e-ba08-72a16a21e170"
      },
      "source": [
        "#이 모델의 검증 정확도를 확인해 보겠다!\n",
        "\n",
        "#케라스에서 예측을 수행하는 predict()메서드는 사이킷런과 달리\n",
        "#샘플마다 10개의  클래스에 대한 확률을 반합니다.\n",
        "#다중 분류이기 때문입니다. ( 뭐 이건 당연한 말이죠 ? )\n",
        "\n",
        "#패션 MINIST데이터셋에서 덜어낸 검증세트의 샘플개수는 1200개이다\n",
        "\n",
        "print(model.predict(val_scaled).shape)\n",
        "\n",
        "import numpy as np\n",
        "val_labels = np.argmax(model.predict(val_scaled),axis=-1)##-1은 배열의 마지막 차원\n",
        "#여기서는 1차원 배열이 되겠지?\n",
        "#argmax는 최대값의 인덱스를 반환함\n",
        "#이것이 무엇이냐면\n",
        "#10개 종류의 옷이 있으니깐 각각 확률이 나올 탠데\n",
        "#제일 높은 확률이 정답으로 예측하겠지?\n",
        "#그것의 인덱스 값을 반환하는 것\n",
        "#샘플이 12000개 있으니간 12000개의 예측 값을 나타내는것\n",
        "print(val_labels.shape)\n",
        "print(np.mean(val_labels==val_target))\n",
        "#예측확률 계산\n",
        "\n",
        "#predict 메서드 결과에서 가장 큰 값을 고르기 위해\n",
        "#넘파이 argmax()함수를 사용했습니다\n",
        "#이 함수는 배열에서 가장 큰 값의 인덱스를 반환\n",
        "#예를 들어 첫번째 원소가 가장 큰 값일 경우 0을 반환한다.\n"
      ],
      "execution_count": 44,
      "outputs": [
        {
          "output_type": "stream",
          "name": "stdout",
          "text": [
            "(12000, 10)\n",
            "(12000,)\n",
            "0.882\n"
          ]
        }
      ]
    },
    {
      "cell_type": "code",
      "metadata": {
        "colab": {
          "base_uri": "https://localhost:8080/"
        },
        "id": "W4d2QAwABdG7",
        "outputId": "73f5d293-4011-4db2-8bdd-6ed2bc4ac84b"
      },
      "source": [
        "model = keras.models.load_model('model-whole.h5')\n",
        "model.evaluate(val_scaled,val_target)\n",
        "#똑같은 결과"
      ],
      "execution_count": 46,
      "outputs": [
        {
          "output_type": "stream",
          "name": "stdout",
          "text": [
            "375/375 [==============================] - 1s 1ms/step - loss: 0.3324 - accuracy: 0.8820\n"
          ]
        },
        {
          "output_type": "execute_result",
          "data": {
            "text/plain": [
              "[0.3324086368083954, 0.8820000290870667]"
            ]
          },
          "metadata": {},
          "execution_count": 46
        }
      ]
    },
    {
      "cell_type": "code",
      "metadata": {
        "colab": {
          "base_uri": "https://localhost:8080/"
        },
        "id": "dzf57d5EBpZ_",
        "outputId": "a9d06978-4282-4075-9d00-0261dd42bda1"
      },
      "source": [
        "#근데 우리는 반복횟수를 위해 두번 훈련시켰다\n",
        "#이게 귀찮은데 안 그러는 방법이 있을까?\n",
        "\n",
        "\n",
        "##콜백\n",
        "#훈련 과정 중간에 어떤 작업을 수행할 수 있게 하는 객체\n",
        "#fit 메서드의 callbacks 매개변수에 리스트로 전달하여 사용한다.\n",
        "#여기서 사용할 ModelCheckpoint 콜백은 기본적으로 에포크마다 모델을 저장한다.\n",
        "#save_best_only =True 매개변수를 지정하여 가장 낮은 검증 점수를 만드는 모델을 저장할 수 있다.\n",
        "\n",
        "model = model_fn(keras.layers.Dropout(0.3))\n",
        "model.compile(loss='sparse_categorical_crossentropy',optimizer='adam',metrics='accuracy')\n",
        "checkpoint_cb = keras.callbacks.ModelCheckpoint('best-model.h5',save_best_only=True)#최적의 모델 저장\n",
        "model.fit(train_scaled,train_target,epochs=20,verbose=0,validation_data=(val_scaled,val_target),callbacks=[checkpoint_cb])"
      ],
      "execution_count": 50,
      "outputs": [
        {
          "output_type": "execute_result",
          "data": {
            "text/plain": [
              "<keras.callbacks.History at 0x7f8418c48550>"
            ]
          },
          "metadata": {},
          "execution_count": 50
        }
      ]
    },
    {
      "cell_type": "code",
      "metadata": {
        "colab": {
          "base_uri": "https://localhost:8080/"
        },
        "id": "WkH44il6C7Gk",
        "outputId": "bc6db003-038c-4530-f95a-5865e119d2de"
      },
      "source": [
        "model = keras.models.load_model('best-model.h5')\n",
        "model.evaluate(val_scaled,val_target)"
      ],
      "execution_count": 51,
      "outputs": [
        {
          "output_type": "stream",
          "name": "stdout",
          "text": [
            "375/375 [==============================] - 1s 1ms/step - loss: 0.3218 - accuracy: 0.8856\n"
          ]
        },
        {
          "output_type": "execute_result",
          "data": {
            "text/plain": [
              "[0.3218475878238678, 0.8855833411216736]"
            ]
          },
          "metadata": {},
          "execution_count": 51
        }
      ]
    },
    {
      "cell_type": "code",
      "metadata": {
        "id": "VfoiY3x_DXMK"
      },
      "source": [
        "##조기종료\n",
        "#여전히 20번의 에포크를 하지만 이것을 과대적합이 시작되기 전에 훈련을 미리 중지할 수 있다.\n",
        "\n",
        "#조기종료를 위한 EarlyStopping 콜백을 제공한다.\n",
        "#patience 매개변수는 검증 점수가 향상되지 않더라도 참을 에포크 횟수\n",
        "#patience = 2 로 지정하면 2번 연속 검증 점수가 향상되지 않으면 훈련을 중지\n",
        "#best_weights 매개변수를 True 로 지정하면 가장 낮은 검증 손실을 낸 모델 파라미터로 되돌린다.\n",
        "\n",
        "#EarlyStropping 콜백와 ModelCheckpoint 콜백과 함께 사용하면 가장 낮은 검승 손실의 모델을 파일에 저장하고\n",
        "#검증 손실이 다시 상승할때 훈련을 중지할 수 있다.\n",
        "#즉, 반복에 대한 자동으로 가자 낮은 검증손실과 가장 좋은 가중치값 저장\n",
        "model = model_fn(keras.layers.Dropout(0.3))\n",
        "model.compile(optimizer='adam',loss='sparse_categorical_crossentropy',metrics='accuracy')\n",
        "checkpoint_cb = keras.callbacks.ModelCheckpoint('best-model.h5',save_best_only=True)\n",
        "early_stopping_cb = keras.callbacks.EarlyStopping(patience=2,restore_best_weights=True)\n",
        "\n",
        "history = model.fit(train_scaled,train_target,epochs=20,verbose=0,validation_data=(val_scaled,val_target),callbacks=[checkpoint_cb,early_stopping_cb])"
      ],
      "execution_count": 53,
      "outputs": []
    },
    {
      "cell_type": "code",
      "metadata": {
        "colab": {
          "base_uri": "https://localhost:8080/",
          "height": 301
        },
        "id": "b8nExuM6C2jD",
        "outputId": "ab8bde28-5fa1-4365-d9e9-4bf12ea8b983"
      },
      "source": [
        "print(early_stopping_cb.stopped_epoch)\n",
        "\n",
        "plt.plot(history.history['loss'])\n",
        "plt.plot(history.history['val_loss'])\n",
        "plt.xlabel('epoch')\n",
        "plt.ylabel('loss')\n",
        "plt.legend(['train','val'])\n",
        "plt.show()"
      ],
      "execution_count": 57,
      "outputs": [
        {
          "output_type": "stream",
          "name": "stdout",
          "text": [
            "12\n"
          ]
        },
        {
          "output_type": "display_data",
          "data": {
            "image/png": "[encoded data removed]",
            "text/plain": [
              "<Figure size 432x288 with 1 Axes>"
            ]
          },
          "metadata": {
            "needs_background": "light"
          }
        }
      ]
    },
    {
      "cell_type": "code",
      "metadata": {
        "colab": {
          "base_uri": "https://localhost:8080/"
        },
        "id": "yEIP5LfyFDx9",
        "outputId": "c7acc02d-5983-476a-9c2a-50d4cb88ca84"
      },
      "source": [
        "model.evaluate(val_scaled,val_target)"
      ],
      "execution_count": 58,
      "outputs": [
        {
          "output_type": "stream",
          "name": "stdout",
          "text": [
            "375/375 [==============================] - 1s 1ms/step - loss: 0.3183 - accuracy: 0.8870\n"
          ]
        },
        {
          "output_type": "execute_result",
          "data": {
            "text/plain": [
              "[0.3183203637599945, 0.8870000243186951]"
            ]
          },
          "metadata": {},
          "execution_count": 58
        }
      ]
    }
  ]
}
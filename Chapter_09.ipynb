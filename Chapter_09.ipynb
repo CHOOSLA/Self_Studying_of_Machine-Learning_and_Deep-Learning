{
  "nbformat": 4,
  "nbformat_minor": 0,
  "metadata": {
    "colab": {
      "name": "Chapter_09",
      "provenance": [],
      "collapsed_sections": [],
      "authorship_tag": "ABX9TyNm6EwkrkIZdphBp1xskLyI",
      "include_colab_link": true
    },
    "kernelspec": {
      "name": "python3",
      "display_name": "Python 3"
    },
    "language_info": {
      "name": "python"
    },
    "accelerator": "GPU"
  },
  "cells": [
    {
      "cell_type": "markdown",
      "metadata": {
        "id": "view-in-github",
        "colab_type": "text"
      },
      "source": [
        "<a href=\"https://colab.research.google.com/github/CHOOSLA/Self_Studying_of_Machine-Learning_and_Deep-Learning/blob/main/Chapter_09.ipynb\" target=\"_parent\"><img src=\"https://colab.research.google.com/assets/colab-badge.svg\" alt=\"Open In Colab\"/></a>"
      ]
    },
    {
      "cell_type": "code",
      "metadata": {
        "id": "th7QgseXJUNr"
      },
      "source": [
        "####################################\n",
        "#####텍스트를 위한 인공 신경망######\n",
        "####################################\n",
        "\n",
        "\n",
        "#순차데이터\n",
        "#순차데이터는 텍스트나 시계열 데이터와 같이 순서에 의미가 있는 데이터를 말한다.\n",
        "\n",
        "#지금까지 우리가 보았던 데이터는 순서와는 상관이 없었다.\n",
        "#순차 데이터를 다룰 때는 이전에 입력한 데이터를 기억하는 기능이 필요합니다.\n",
        "#완전 연결 신경망이나 합성곱 신경망은 이런 기억 장치가 없다.\n",
        "\n",
        "\n",
        "#이렇게 입력 데이터의 흐름이 앞으로만 전달되는 신경망은 **피드포워드신경망**이라고 한다. FFNN\n",
        "#이전 장에서 배웠던 완전 연결 신경망과 합성곱 신경망이 모두 피트포워드 신경망에 속한다.\n",
        "\n",
        "#신경망이 이전에 처리했던 샘플을 다음 샘플을 처리하는 데 재사용하기 위해서는 순환 신경망을 써야된다.\n",
        "\n",
        "\n",
        "##순환신경망\n",
        "#RNN은 일반적인 완전 연결 신경망과 거의 비슷합니다.\n",
        "#완전 연결 신경망에 이전 데이터의 처리 흐름을 순환하는 고리를 추가한다ㅏ\n",
        "\n",
        "#뉴런의 출력이 다시 자기 자신으로 전달됩니다.\n",
        "\n",
        "#샘플을 처리하는 한 단계를 **타임스텝**이라고 한다.\n",
        "\n",
        "#순환 신경망은 이전 타임스텝의 샘플을 기억하지만 타임스텝이 오래될수록 순환되는 정보는 희미해진다.\n",
        "\n",
        "#순환 신경망에서는 특별히 층을 **셀**이라고 한다.\n",
        "#한 셀에는 여러개의 뉴런이 있지만 완전 연결 신경망과 달리 뉴런을 모두 표시하지 않고 하나의 셀로 표현\n",
        "#또 셀의 출력을 **은닉상태**라고 부릅니다.\n",
        "\n",
        "#합성곱 신경망에서 처럼 신명아의 구조마다 조금씩 부르는 이름이 다를 수 있다.\n",
        "#하지만 기본구조는 같다.\n",
        "#입력에 어떤 가중치를 곱하고 활성화함수를 통과시켜 다음 층으로 보내는 것\n",
        "\n",
        "#일반적으로 은닉층의 활성화 함수로는 하이퍼볼릭 탄젠트 함수인 tanh 가 많이 사용\n",
        "#tanh함수도 s자 모양을 띠기 때문에 종종 시그모이드 함수라고 부르기도 합니다.\n",
        "#하지만 다르다. 텐에이치는 시그모이드 함수와는 달리 -1~1 사이의 범위를 가진다.\n",
        "\n",
        "\n",
        "#순환신경망에서는 뉴런에 이전 타임스텝의 은닉상태에 곱해지는 가중치\n"
      ],
      "execution_count": null,
      "outputs": []
    },
    {
      "cell_type": "code",
      "metadata": {
        "id": "u8ajv8bLVjds"
      },
      "source": [
        "#셀의 가중치와 입출력\n",
        "#순환 신경망의 셀에서 필요한 가중치 크기를 계산해 보겠습니다.\n",
        "#복잡한 모델을 배울수록 가중치 개수를 계산해보면 잘 이해하고 잇는지 알 수 있습니다.\n",
        "\n",
        "#자세한 설명 p496\n"
      ],
      "execution_count": null,
      "outputs": []
    },
    {
      "cell_type": "code",
      "metadata": {
        "colab": {
          "base_uri": "https://localhost:8080/"
        },
        "id": "8VKEPGXFciKH",
        "outputId": "0e0c473e-1b76-4821-e246-083bae741b2b"
      },
      "source": [
        "#순환 신경망으로 IMDB 리뷰 분류하기\n",
        "\n",
        "#IMDB 리뷰 데이터셋을 사용해 가장 간단한 순환 신명망 모델을 훈련해 보겠습니다.\n",
        "\n",
        "#두 가지 방법으로 변형하여 순환 신경망에 주입해 보겠습니다.\n",
        "\n",
        "#IMDB 리뷰 데이터셋\n",
        "#IMDB 리뷰 데이터셋은 유명한 인터넷 영화 데이터베이스인 IMDB.COM 에서 수집한 리뷰를 감상평에\n",
        "#따라 긍정과 부정으로 분류해 놓은 데이터셋입니다.\n",
        "#총 50000개의 샘플로 이루어져 있고 훈련 데이터와 테스트 데이터에 각각 25000개씩 나누어져 있습니다.\n",
        "\n",
        "#자연어 처리와 말뭉치란 무엇인가요?\n",
        "#자연어 처리는 컴퓨터를 사용해 인간의 언어를 처리하는 분야. 대표적인 세부 분야로는 음성인식, 기계번역, 감정 분석 등이 있다.\n",
        "#IMDB 리뷰를 감상평에 따라 분류하는 작업은 감성 분석에 해당합니다. 자연어 처리 분야에서는 훈련데이터를 종종 말뭉치라고 부르낟.\n",
        "\n",
        "#사실 텍스트 자체를 신경망에 전달하지는 않는다. 컴퓨터에서 처리하는 모든 것은 어떤 숫자 데이터 이다.\n",
        "#앞서 합성곱 신경망에서 이미지를 다룰 때는 특별한 변환을 하지 않았지만 , 텍스트 데이터의 경우 단어를 숫자데이터로 바꾸는 일반적인 방법은\n",
        "#데이터에 등장하는 단어마다 고유한 정수를 부여하는 것이다.\n",
        "#일반적으로 영어 문장은 모두 소문자로 바꾸고 구둣점을 삭제한 다음 공백을 기준으로 분리한다.\n",
        "\n",
        "#이렇게 분리된 단어를 **토큰**이라고 부른다.\n",
        "#한글 문장은 어떻게 토큰을 분리하나요? 한글은 조사가 발달되어 있기 때문에 공백으로 나누는 것만으로는 부족!\n",
        "#일반적으로 한글은 형태소 분석을 통해 토큰을 만든다.\n",
        "\n",
        "#토근에 할당하는 정수 중에 몇개는 특정한 용도로 예약되어 있는 경우가 많다. 예를 들어 0은 패딩, 1은 문장의 시작, 2는 어휘 사전에 없는 토큰을 나타냅니다\n",
        "\n",
        "\n",
        "from tensorflow.keras.datasets import imdb\n",
        "(train_input,train_target),(test_input,test_target) = imdb.load_data(num_words=500)\n",
        "#여기에서는 전체 데이터셋에서 가장 자주 등장하는 단어 500개만 사용한다.\n",
        "\n",
        "print(train_input.shape,train_target.shape)"
      ],
      "execution_count": null,
      "outputs": [
        {
          "output_type": "stream",
          "name": "stdout",
          "text": [
            "Downloading data from https://storage.googleapis.com/tensorflow/tf-keras-datasets/imdb.npz\n",
            "17465344/17464789 [==============================] - 1s 0us/step\n",
            "17473536/17464789 [==============================] - 1s 0us/step\n",
            "(25000,) (25000,)\n"
          ]
        }
      ]
    },
    {
      "cell_type": "code",
      "metadata": {
        "colab": {
          "base_uri": "https://localhost:8080/"
        },
        "id": "uBR4ymBwcj_y",
        "outputId": "b351d6ca-96a7-4162-ed1c-7cf5200b298e"
      },
      "source": [
        "print(len(train_input[0]))\n",
        "print(len(train_input[1]))\n",
        "print(train_input[0]) #이미 정수로 변환되어 있는 것을 확인할 수 있다.\n",
        "\n",
        "print(train_target[:20])\n",
        "#여기서 긍정인지 부정인지를 판단하는 것"
      ],
      "execution_count": null,
      "outputs": [
        {
          "output_type": "stream",
          "name": "stdout",
          "text": [
            "218\n",
            "189\n",
            "[1, 14, 22, 16, 43, 2, 2, 2, 2, 65, 458, 2, 66, 2, 4, 173, 36, 256, 5, 25, 100, 43, 2, 112, 50, 2, 2, 9, 35, 480, 284, 5, 150, 4, 172, 112, 167, 2, 336, 385, 39, 4, 172, 2, 2, 17, 2, 38, 13, 447, 4, 192, 50, 16, 6, 147, 2, 19, 14, 22, 4, 2, 2, 469, 4, 22, 71, 87, 12, 16, 43, 2, 38, 76, 15, 13, 2, 4, 22, 17, 2, 17, 12, 16, 2, 18, 2, 5, 62, 386, 12, 8, 316, 8, 106, 5, 4, 2, 2, 16, 480, 66, 2, 33, 4, 130, 12, 16, 38, 2, 5, 25, 124, 51, 36, 135, 48, 25, 2, 33, 6, 22, 12, 215, 28, 77, 52, 5, 14, 407, 16, 82, 2, 8, 4, 107, 117, 2, 15, 256, 4, 2, 7, 2, 5, 2, 36, 71, 43, 2, 476, 26, 400, 317, 46, 7, 4, 2, 2, 13, 104, 88, 4, 381, 15, 297, 98, 32, 2, 56, 26, 141, 6, 194, 2, 18, 4, 226, 22, 21, 134, 476, 26, 480, 5, 144, 30, 2, 18, 51, 36, 28, 224, 92, 25, 104, 4, 226, 65, 16, 38, 2, 88, 12, 16, 283, 5, 16, 2, 113, 103, 32, 15, 16, 2, 19, 178, 32]\n",
            "[1 0 0 1 0 0 1 0 1 0 1 0 0 0 0 0 1 1 0 1]\n"
          ]
        }
      ]
    },
    {
      "cell_type": "code",
      "metadata": {
        "colab": {
          "base_uri": "https://localhost:8080/"
        },
        "id": "6PzTaLG-dSVy",
        "outputId": "1e88d65a-f141-4d68-a9ed-64d6cd511cfb"
      },
      "source": [
        "from sklearn.model_selection import train_test_split\n",
        "train_input,val_input,train_target,val_target = train_test_split(train_input,train_target,test_size = 0.2,random_state=42)\n",
        "\n",
        "import numpy as np\n",
        "lengths = np.array([len(x) for x in train_input])\n",
        "print(np.mean(lengths),np.median(lengths))\n",
        "#평균과 중강값을 보면 한쪽에 치우친 데이터인 것을 볼 수 있다.\n",
        "#평균이 중간값보다 높은 이유는 오른쪽 끝에 아주 큰 데이터가 있기 때문이다.\n",
        "#어떤 리뷰는 1000개의 단어를 넘기도 한다!\n",
        "\n",
        "#리뷰는 대부분 짧아서 이 예제에서는 중간값보다 훨씬 짧은 100개의 단어만 사용하겠다.\n",
        "#하지만 여전히 100개의 단어보다 작은 리뷰가 있습니다.\n",
        "#이런 리뷰들의 길이를 100에 맞추기 위해 패딩이 필요하다.\n",
        "#보통 패딩을 나타내는 토큰으로는 0을 사용한다."
      ],
      "execution_count": null,
      "outputs": [
        {
          "output_type": "stream",
          "name": "stdout",
          "text": [
            "237.93078125 179.0\n"
          ]
        }
      ]
    },
    {
      "cell_type": "code",
      "metadata": {
        "colab": {
          "base_uri": "https://localhost:8080/",
          "height": 279
        },
        "id": "wqBiPJqXmjwl",
        "outputId": "287d72af-a10a-41f7-bd78-5cbccd222517"
      },
      "source": [
        "import matplotlib.pyplot as plt\n",
        "plt.hist(lengths)\n",
        "plt.xlabel('length')\n",
        "plt.ylabel('frequency')\n",
        "plt.show()"
      ],
      "execution_count": null,
      "outputs": [
        {
          "output_type": "display_data",
          "data": {
            "image/png": "[encoded data removed]",
            "text/plain": [
              "<Figure size 432x288 with 1 Axes>"
            ]
          },
          "metadata": {
            "needs_background": "light"
          }
        }
      ]
    },
    {
      "cell_type": "code",
      "metadata": {
        "id": "Y8XRpbtDoVnx"
      },
      "source": [
        "from tensorflow.keras.preprocessing.sequence import pad_sequences\n",
        "train_seq = pad_sequences(train_input,maxlen=100,truncating='post',padding='post')"
      ],
      "execution_count": null,
      "outputs": []
    },
    {
      "cell_type": "code",
      "metadata": {
        "colab": {
          "base_uri": "https://localhost:8080/"
        },
        "id": "7X_2HzmBoWNP",
        "outputId": "2c42cac0-b3ce-4bb3-d308-fdd3619185b3"
      },
      "source": [
        "print(train_seq.shape)\n",
        "#이차원 배열이 되어 있따!"
      ],
      "execution_count": null,
      "outputs": [
        {
          "output_type": "stream",
          "name": "stdout",
          "text": [
            "(12800, 100)\n"
          ]
        }
      ]
    },
    {
      "cell_type": "code",
      "metadata": {
        "colab": {
          "base_uri": "https://localhost:8080/"
        },
        "id": "Xw_iu9hHoiAr",
        "outputId": "8dfdb1f8-c49f-4897-bb6c-94b58c75b56e"
      },
      "source": [
        "print(train_seq[0])"
      ],
      "execution_count": null,
      "outputs": [
        {
          "output_type": "stream",
          "name": "stdout",
          "text": [
            "[  1  73  89  81  25  60   2   6  20 141  17  14  31 127  12  60  28   2\n",
            "   2  66  45   6  20  15 497   8  79  17 491   8 112   6   2  20  17   2\n",
            "   2   4 436  20   9   2   6   2   7 493   2   6 185 250  24  55   2   5\n",
            "  23 350   7  15  82  24  15   2  66  10  10  45   2  15   4  20   2   8\n",
            "  30  17   2   5   2  17   2 190   4  20   9  43  32  99   2  18  15   8\n",
            " 157  46  17   2   4   2   5   2   9  32]\n"
          ]
        }
      ]
    },
    {
      "cell_type": "code",
      "metadata": {
        "id": "u-OtUjs1orSR"
      },
      "source": [
        "val_seq = pad_sequences(val_input,maxlen=100)"
      ],
      "execution_count": null,
      "outputs": []
    },
    {
      "cell_type": "code",
      "metadata": {
        "id": "GCbtzx4tpDEQ"
      },
      "source": [
        "#순환 신명망 만들기\n",
        "\n",
        "from tensorflow import keras\n",
        "model = keras.Sequential()\n",
        "model.add(keras.layers.SimpleRNN(8,input_shape=(100,500)))\n",
        "model.add(keras.layers.Dense(1,activation='tanh'))\n",
        "#input_shape에 입력차원을 (100,500)으로 지정했다.\n",
        "#첫 번째 차원이 100인 것은 앞에서 샘프르이 길이를 100으로 지정했고\n",
        "#500은 train_seq와 val_seq의 한가지 큰 문제가 있는데, 토큰을 정수로 변환한 이 데이터를 신경망에 주입하면 큰 정수가 큰 활성화 출력을 만들기 때문에\n",
        "#20번 토큰을 10번 토큰보다 더 중요시해야할 이유가 여기에서는 없다. 그래서 각 정수를 고유하게 표현하는 방법 원-핫 코딩을 해야된다.\n",
        "#예시로 10을 원핫코딩을하면 0000000000100~\n",
        "#여기서는 500개의 단어만 사용하도록 지정했기 때문에 정숫값의 범위는 0~499까지가 된다.\n",
        "#순환층에도 당연히 활성화 함수를 사용해야 한다."
      ],
      "execution_count": null,
      "outputs": []
    },
    {
      "cell_type": "code",
      "metadata": {
        "colab": {
          "base_uri": "https://localhost:8080/"
        },
        "id": "LWUVz5LcqeOD",
        "outputId": "d04a2037-0bbd-41f4-80b6-671594d276ac"
      },
      "source": [
        "train_oh = keras.utils.to_categorical(train_seq)\n",
        "print(train_oh.shape)\n",
        "#12800개의 문장에 100개의 단어만 뽑아와서 그것을 500개의 원핫코딩으로 만듬"
      ],
      "execution_count": null,
      "outputs": [
        {
          "output_type": "stream",
          "name": "stdout",
          "text": [
            "(12800, 100, 500)\n"
          ]
        }
      ]
    },
    {
      "cell_type": "code",
      "metadata": {
        "colab": {
          "base_uri": "https://localhost:8080/"
        },
        "id": "W_ikIabOqqyo",
        "outputId": "7d6cc992-2da8-4c43-e7f6-b05cd319a79c"
      },
      "source": [
        "print(train_oh[0][0][:12])\n",
        "print(np.sum(train_oh[0][0]))"
      ],
      "execution_count": null,
      "outputs": [
        {
          "output_type": "stream",
          "name": "stdout",
          "text": [
            "[1. 0. 0. 0. 0. 0. 0. 0. 0. 0. 0. 0.]\n",
            "1.0\n"
          ]
        }
      ]
    },
    {
      "cell_type": "code",
      "metadata": {
        "id": "SvtxnsgKrHKi"
      },
      "source": [
        "val_oh = keras.utils.to_categorical(val_seq)"
      ],
      "execution_count": null,
      "outputs": []
    },
    {
      "cell_type": "code",
      "metadata": {
        "colab": {
          "base_uri": "https://localhost:8080/"
        },
        "id": "3g5h-pbvrLgf",
        "outputId": "ef23036d-15e7-4b57-f0a0-794d451072b4"
      },
      "source": [
        "model.summary()"
      ],
      "execution_count": null,
      "outputs": [
        {
          "output_type": "stream",
          "name": "stdout",
          "text": [
            "Model: \"sequential_3\"\n",
            "_________________________________________________________________\n",
            "Layer (type)                 Output Shape              Param #   \n",
            "=================================================================\n",
            "simple_rnn_2 (SimpleRNN)     (None, 8)                 4072      \n",
            "_________________________________________________________________\n",
            "dense_2 (Dense)              (None, 1)                 9         \n",
            "=================================================================\n",
            "Total params: 4,081\n",
            "Trainable params: 4,081\n",
            "Non-trainable params: 0\n",
            "_________________________________________________________________\n"
          ]
        }
      ]
    },
    {
      "cell_type": "code",
      "metadata": {
        "colab": {
          "base_uri": "https://localhost:8080/"
        },
        "id": "nb9SigubrVnQ",
        "outputId": "081d73f4-b067-44a4-d588-cc0fd44811a3"
      },
      "source": [
        "#순환 신경망 훈련하기\n",
        "rmsprop = keras.optimizers.RMSprop(learning_rate=1e-4)\n",
        "model.compile(optimizer=rmsprop,loss='binary_crossentropy',metrics=['accuracy'])\n",
        "checkpoint_cb = keras.callbacks.ModelCheckpoint('best-simplernn-model.h5',save_best_only=True)\n",
        "early_stopping_cb = keras.callbacks.EarlyStopping(patience=3,restore_best_weights=True)\n",
        "history = model.fit(train_oh,train_target,epochs=100,batch_size=64,validation_data=(val_oh,val_target),callbacks=[checkpoint_cb,early_stopping_cb])"
      ],
      "execution_count": null,
      "outputs": [
        {
          "output_type": "stream",
          "name": "stdout",
          "text": [
            "Epoch 1/100\n",
            "200/200 [==============================] - 10s 41ms/step - loss: 4.3062 - accuracy: 0.5028 - val_loss: 3.8540 - val_accuracy: 0.5072\n",
            "Epoch 2/100\n",
            "200/200 [==============================] - 8s 39ms/step - loss: 3.8647 - accuracy: 0.5015 - val_loss: 3.4509 - val_accuracy: 0.5066\n",
            "Epoch 3/100\n",
            "200/200 [==============================] - 8s 40ms/step - loss: 3.3969 - accuracy: 0.5037 - val_loss: 3.0599 - val_accuracy: 0.5084\n",
            "Epoch 4/100\n",
            "200/200 [==============================] - 8s 40ms/step - loss: 3.0082 - accuracy: 0.5017 - val_loss: 2.5773 - val_accuracy: 0.5069\n",
            "Epoch 5/100\n",
            "200/200 [==============================] - 8s 40ms/step - loss: 2.4834 - accuracy: 0.5035 - val_loss: 2.0095 - val_accuracy: 0.5072\n",
            "Epoch 6/100\n",
            "200/200 [==============================] - 8s 39ms/step - loss: 1.9252 - accuracy: 0.5027 - val_loss: 1.5705 - val_accuracy: 0.5131\n",
            "Epoch 7/100\n",
            "200/200 [==============================] - 8s 40ms/step - loss: 1.5010 - accuracy: 0.5068 - val_loss: 1.3176 - val_accuracy: 0.5172\n",
            "Epoch 8/100\n",
            "200/200 [==============================] - 8s 40ms/step - loss: 1.2042 - accuracy: 0.5072 - val_loss: 1.0110 - val_accuracy: 0.5175\n",
            "Epoch 9/100\n",
            "200/200 [==============================] - 8s 40ms/step - loss: 0.9669 - accuracy: 0.5080 - val_loss: 0.8666 - val_accuracy: 0.5200\n",
            "Epoch 10/100\n",
            "200/200 [==============================] - 8s 40ms/step - loss: 0.8127 - accuracy: 0.5079 - val_loss: 0.7418 - val_accuracy: 0.5166\n",
            "Epoch 11/100\n",
            "200/200 [==============================] - 8s 41ms/step - loss: 0.7305 - accuracy: 0.5061 - val_loss: 0.7137 - val_accuracy: 0.5163\n",
            "Epoch 12/100\n",
            "200/200 [==============================] - 8s 40ms/step - loss: 0.7123 - accuracy: 0.5106 - val_loss: 0.7074 - val_accuracy: 0.5175\n",
            "Epoch 13/100\n",
            "200/200 [==============================] - 8s 40ms/step - loss: 0.7057 - accuracy: 0.5150 - val_loss: 0.7037 - val_accuracy: 0.5150\n",
            "Epoch 14/100\n",
            "200/200 [==============================] - 8s 40ms/step - loss: 0.7012 - accuracy: 0.5224 - val_loss: 0.7013 - val_accuracy: 0.5119\n",
            "Epoch 15/100\n",
            "200/200 [==============================] - 8s 40ms/step - loss: 0.6977 - accuracy: 0.5245 - val_loss: 0.6996 - val_accuracy: 0.5172\n",
            "Epoch 16/100\n",
            "200/200 [==============================] - 8s 41ms/step - loss: 0.6949 - accuracy: 0.5295 - val_loss: 0.6984 - val_accuracy: 0.5200\n",
            "Epoch 17/100\n",
            "200/200 [==============================] - 8s 40ms/step - loss: 0.6924 - accuracy: 0.5322 - val_loss: 0.6974 - val_accuracy: 0.5216\n",
            "Epoch 18/100\n",
            "200/200 [==============================] - 8s 40ms/step - loss: 0.6902 - accuracy: 0.5361 - val_loss: 0.6966 - val_accuracy: 0.5238\n",
            "Epoch 19/100\n",
            "200/200 [==============================] - 8s 40ms/step - loss: 0.6881 - accuracy: 0.5408 - val_loss: 0.6961 - val_accuracy: 0.5234\n",
            "Epoch 20/100\n",
            "200/200 [==============================] - 8s 39ms/step - loss: 0.6862 - accuracy: 0.5468 - val_loss: 0.6954 - val_accuracy: 0.5297\n",
            "Epoch 21/100\n",
            "200/200 [==============================] - 8s 40ms/step - loss: 0.6844 - accuracy: 0.5527 - val_loss: 0.6952 - val_accuracy: 0.5269\n",
            "Epoch 22/100\n",
            "200/200 [==============================] - 8s 40ms/step - loss: 0.6826 - accuracy: 0.5570 - val_loss: 0.6950 - val_accuracy: 0.5319\n",
            "Epoch 23/100\n",
            "200/200 [==============================] - 8s 39ms/step - loss: 0.6809 - accuracy: 0.5612 - val_loss: 0.6946 - val_accuracy: 0.5322\n",
            "Epoch 24/100\n",
            "200/200 [==============================] - 8s 39ms/step - loss: 0.6793 - accuracy: 0.5668 - val_loss: 0.6946 - val_accuracy: 0.5284\n",
            "Epoch 25/100\n",
            "200/200 [==============================] - 8s 39ms/step - loss: 0.6776 - accuracy: 0.5703 - val_loss: 0.6945 - val_accuracy: 0.5297\n",
            "Epoch 26/100\n",
            "200/200 [==============================] - 8s 40ms/step - loss: 0.6759 - accuracy: 0.5736 - val_loss: 0.6946 - val_accuracy: 0.5294\n",
            "Epoch 27/100\n",
            "200/200 [==============================] - 8s 40ms/step - loss: 0.6743 - accuracy: 0.5791 - val_loss: 0.6948 - val_accuracy: 0.5247\n",
            "Epoch 28/100\n",
            "200/200 [==============================] - 8s 40ms/step - loss: 0.6727 - accuracy: 0.5827 - val_loss: 0.6946 - val_accuracy: 0.5266\n"
          ]
        }
      ]
    },
    {
      "cell_type": "code",
      "metadata": {
        "colab": {
          "base_uri": "https://localhost:8080/",
          "height": 279
        },
        "id": "In7_VuS6sKEa",
        "outputId": "859bf360-2a9d-474b-f0e5-1e30b2a3ea9c"
      },
      "source": [
        "plt.plot(history.history['loss'])\n",
        "plt.plot(history.history['val_loss'])\n",
        "plt.xlabel('epoch')\n",
        "plt.ylabel('loss')\n",
        "plt.legend(['train','val'])\n",
        "plt.show()"
      ],
      "execution_count": null,
      "outputs": [
        {
          "output_type": "display_data",
          "data": {
            "image/png": "[encoded data removed]",
            "text/plain": [
              "<Figure size 432x288 with 1 Axes>"
            ]
          },
          "metadata": {
            "needs_background": "light"
          }
        }
      ]
    },
    {
      "cell_type": "code",
      "metadata": {
        "colab": {
          "base_uri": "https://localhost:8080/"
        },
        "id": "L4_OvF9puy20",
        "outputId": "d09d5e73-ec55-4ad0-8715-9de4e90d5937"
      },
      "source": [
        "##단어 임베딩\n",
        "\n",
        "#순환 신경망에서 텍스트를 처리할 때 즐겨 사용하는 방법을 **단어 임베딩**이라고 한다.\n",
        "#차원축소와 비슷하게 각 단어를 고정된 크기의 실수 벡터로 바꾸어준다. 즉 특징을 벡터로 표시\n",
        "\n",
        "#벡터는 원-핫 인코딩된 벡터보다 훨씬 의미 있는 값으로 채워져 있다.\n",
        "#딥러닝은 결국 특징을 뽑아내는 거 이기때문에 데이터도 벡터로 특징을 표현하면 훨씬 좋겠쬬?\n",
        "\n",
        "#이미 케라스에서는 준비되어있다. Emdedding 클래스로 임베딩 기능을 제공한다.\n",
        "#단어 임베딩의 장점은 입력으로 정수 데이터를 받는다는 것이다.\n",
        "#즉 원-핫 인코딩으로 변경된 train_oh 배열이 아니라 trian_seq를 사용할 수 있다.\n",
        "#이 때문에 메모리를 훨씬 효율적으로 사용할 수 있다.\n",
        "\n",
        "#단어 임베딩도 (100,) 크기의 샘플을 (100,20)와 같이 표현 500개의 단어를 단 20개의 벡터의 배열로 표현\n",
        "\n",
        "model2 = keras.Sequential()\n",
        "model2.add(keras.layers.Embedding(500,16,input_length=100))\n",
        "model2.add(keras.layers.SimpleRNN(8))\n",
        "model2.add(keras.layers.Dense(1,activation='sigmoid')) #순환신경망의 출력은 항상 하나다!!\n",
        "model2.summary()\n",
        "#여기서 두번째 매개변수 16은 임베딩 벡터의 크기\n",
        "#16*8 + 은닉상태에서 곱해지는 가중치 8*8 (전의 입력이 다시 반영되기 때문에) + 절편 8 = 200 파라미터는 200개\n",
        "\n",
        "rmsprop = keras.optimizers.RMSprop(learning_rate=1e-4)\n",
        "model2.compile(optimizer=rmsprop,loss='binary_crossentropy',metrics=['accuracy'])\n",
        "checkpoint_cb = keras.callbacks.ModelCheckpoint('best-simplernn-model.h5',save_best_only=True)\n",
        "early_stopping_cb = keras.callbacks.EarlyStopping(patience=3,restore_best_weights=True)\n",
        "history = model2.fit(train_seq,train_target,epochs=100,batch_size=64,validation_data=(val_seq,val_target),callbacks=[checkpoint_cb,early_stopping_cb])"
      ],
      "execution_count": null,
      "outputs": [
        {
          "output_type": "stream",
          "name": "stdout",
          "text": [
            "Model: \"sequential_9\"\n",
            "_________________________________________________________________\n",
            "Layer (type)                 Output Shape              Param #   \n",
            "=================================================================\n",
            "embedding_5 (Embedding)      (None, 100, 16)           8000      \n",
            "_________________________________________________________________\n",
            "simple_rnn_8 (SimpleRNN)     (None, 8)                 200       \n",
            "_________________________________________________________________\n",
            "dense_8 (Dense)              (None, 1)                 9         \n",
            "=================================================================\n",
            "Total params: 8,209\n",
            "Trainable params: 8,209\n",
            "Non-trainable params: 0\n",
            "_________________________________________________________________\n",
            "Epoch 1/100\n",
            "200/200 [==============================] - 6s 27ms/step - loss: 0.6820 - accuracy: 0.5630 - val_loss: 0.6526 - val_accuracy: 0.6453\n",
            "Epoch 2/100\n",
            "200/200 [==============================] - 5s 26ms/step - loss: 0.6439 - accuracy: 0.6558 - val_loss: 0.6336 - val_accuracy: 0.6737\n",
            "Epoch 3/100\n",
            "200/200 [==============================] - 5s 26ms/step - loss: 0.6263 - accuracy: 0.6832 - val_loss: 0.6203 - val_accuracy: 0.7013\n",
            "Epoch 4/100\n",
            "200/200 [==============================] - 5s 26ms/step - loss: 0.6114 - accuracy: 0.7032 - val_loss: 0.6129 - val_accuracy: 0.6947\n",
            "Epoch 5/100\n",
            "200/200 [==============================] - 5s 26ms/step - loss: 0.5983 - accuracy: 0.7191 - val_loss: 0.6032 - val_accuracy: 0.7078\n",
            "Epoch 6/100\n",
            "200/200 [==============================] - 5s 25ms/step - loss: 0.5872 - accuracy: 0.7329 - val_loss: 0.5981 - val_accuracy: 0.7116\n",
            "Epoch 7/100\n",
            "200/200 [==============================] - 5s 26ms/step - loss: 0.5782 - accuracy: 0.7355 - val_loss: 0.5894 - val_accuracy: 0.7237\n",
            "Epoch 8/100\n",
            "200/200 [==============================] - 5s 26ms/step - loss: 0.5684 - accuracy: 0.7458 - val_loss: 0.5885 - val_accuracy: 0.7141\n",
            "Epoch 9/100\n",
            "200/200 [==============================] - 5s 26ms/step - loss: 0.5615 - accuracy: 0.7510 - val_loss: 0.5821 - val_accuracy: 0.7194\n",
            "Epoch 10/100\n",
            "200/200 [==============================] - 5s 26ms/step - loss: 0.5526 - accuracy: 0.7587 - val_loss: 0.5751 - val_accuracy: 0.7250\n",
            "Epoch 11/100\n",
            "200/200 [==============================] - 5s 26ms/step - loss: 0.5452 - accuracy: 0.7602 - val_loss: 0.5827 - val_accuracy: 0.7084\n",
            "Epoch 12/100\n",
            "200/200 [==============================] - 5s 26ms/step - loss: 0.5382 - accuracy: 0.7649 - val_loss: 0.5640 - val_accuracy: 0.7259\n",
            "Epoch 13/100\n",
            "200/200 [==============================] - 5s 26ms/step - loss: 0.5318 - accuracy: 0.7688 - val_loss: 0.5647 - val_accuracy: 0.7281\n",
            "Epoch 14/100\n",
            "200/200 [==============================] - 5s 26ms/step - loss: 0.5243 - accuracy: 0.7737 - val_loss: 0.5580 - val_accuracy: 0.7306\n",
            "Epoch 15/100\n",
            "200/200 [==============================] - 5s 25ms/step - loss: 0.5207 - accuracy: 0.7736 - val_loss: 0.5553 - val_accuracy: 0.7325\n",
            "Epoch 16/100\n",
            "200/200 [==============================] - 5s 25ms/step - loss: 0.5137 - accuracy: 0.7763 - val_loss: 0.5562 - val_accuracy: 0.7303\n",
            "Epoch 17/100\n",
            "200/200 [==============================] - 5s 26ms/step - loss: 0.5074 - accuracy: 0.7811 - val_loss: 0.5489 - val_accuracy: 0.7378\n",
            "Epoch 18/100\n",
            "200/200 [==============================] - 5s 26ms/step - loss: 0.5020 - accuracy: 0.7835 - val_loss: 0.5463 - val_accuracy: 0.7362\n",
            "Epoch 19/100\n",
            "200/200 [==============================] - 5s 27ms/step - loss: 0.4972 - accuracy: 0.7862 - val_loss: 0.5387 - val_accuracy: 0.7425\n",
            "Epoch 20/100\n",
            "200/200 [==============================] - 5s 26ms/step - loss: 0.4925 - accuracy: 0.7873 - val_loss: 0.5323 - val_accuracy: 0.7497\n",
            "Epoch 21/100\n",
            "200/200 [==============================] - 5s 25ms/step - loss: 0.4882 - accuracy: 0.7905 - val_loss: 0.5356 - val_accuracy: 0.7456\n",
            "Epoch 22/100\n",
            "200/200 [==============================] - 5s 25ms/step - loss: 0.4835 - accuracy: 0.7937 - val_loss: 0.5330 - val_accuracy: 0.7478\n",
            "Epoch 23/100\n",
            "200/200 [==============================] - 4s 22ms/step - loss: 0.4797 - accuracy: 0.7942 - val_loss: 0.5302 - val_accuracy: 0.7494\n",
            "Epoch 24/100\n",
            "200/200 [==============================] - 5s 23ms/step - loss: 0.4754 - accuracy: 0.7961 - val_loss: 0.5243 - val_accuracy: 0.7528\n",
            "Epoch 25/100\n",
            "200/200 [==============================] - 4s 22ms/step - loss: 0.4712 - accuracy: 0.7980 - val_loss: 0.5218 - val_accuracy: 0.7550\n",
            "Epoch 26/100\n",
            "200/200 [==============================] - 4s 20ms/step - loss: 0.4670 - accuracy: 0.8009 - val_loss: 0.5141 - val_accuracy: 0.7600\n",
            "Epoch 27/100\n",
            "200/200 [==============================] - 4s 20ms/step - loss: 0.4636 - accuracy: 0.8018 - val_loss: 0.5103 - val_accuracy: 0.7597\n",
            "Epoch 28/100\n",
            "200/200 [==============================] - 4s 20ms/step - loss: 0.4605 - accuracy: 0.8031 - val_loss: 0.5158 - val_accuracy: 0.7578\n",
            "Epoch 29/100\n",
            "200/200 [==============================] - 4s 20ms/step - loss: 0.4573 - accuracy: 0.8039 - val_loss: 0.5156 - val_accuracy: 0.7578\n",
            "Epoch 30/100\n",
            "200/200 [==============================] - 4s 20ms/step - loss: 0.4536 - accuracy: 0.8059 - val_loss: 0.5149 - val_accuracy: 0.7600\n"
          ]
        }
      ]
    },
    {
      "cell_type": "code",
      "metadata": {
        "colab": {
          "base_uri": "https://localhost:8080/",
          "height": 279
        },
        "id": "mkaomV64xNLd",
        "outputId": "34615b7c-64e2-4f3b-8926-ce5c850ac436"
      },
      "source": [
        "plt.plot(history.history['loss'])\n",
        "plt.plot(history.history['val_loss'])\n",
        "plt.xlabel('epoch')\n",
        "plt.ylabel('loss')\n",
        "plt.legend(['train','val'])\n",
        "plt.show()\n",
        "#적절히 되었다~!"
      ],
      "execution_count": null,
      "outputs": [
        {
          "output_type": "display_data",
          "data": {
            "image/png": "[encoded data removed]",
            "text/plain": [
              "<Figure size 432x288 with 1 Axes>"
            ]
          },
          "metadata": {
            "needs_background": "light"
          }
        }
      ]
    },
    {
      "cell_type": "code",
      "metadata": {
        "colab": {
          "base_uri": "https://localhost:8080/"
        },
        "id": "d56POpVKybnB",
        "outputId": "c6d98879-cc50-4339-e2aa-19fc2c96dcc1"
      },
      "source": [
        "###LSTM과 GRU 셀\n",
        "\n",
        "\n",
        "#이 절에서는 고급 순환층을 공부\n",
        "#2절에서 배웠던 SimpleRNN보다 계산이 훨씬 복잡함\n",
        "#하지만 성능이 뛰어나기 때문에 순환 신경망에 많이 채택\n",
        "\n",
        "#일반적으로 기본 순환층은 긴 시퀀스를 학습하기 어렵다\n",
        "#시퀀스가 길수록 순환되는 은닉상태에 담긴 정보가 *희석*되기 때문에\n",
        "#따라서 멀리 떨어져 있는 단어 정보를 인식하는데 어려울 수 있기 때문에 여기서 두개를 배워본다\n",
        "\n",
        "\n",
        "\n",
        "############LSTM 구조#################\n",
        "#Long Short-Term Memory의 약자\n",
        "#말 그대로 단기 기억을 오래 기억하기 위해 고안\n",
        "\n",
        "#LSTM에는 순환되는 상태가 2개인다.\n",
        "#은닉상태말고 **셀상태**라고 부르는 값이 또 있다. 은닉상태  = 출력값\n",
        "#은닉상태와 달리 셀 상태는 다음 층으로 전달되지 않고 LSTM셀에서 순환만 되는 값\n",
        "#은닉상태를 또 다른 가중치에 곱한다음 시그모이드 함수를 통과시키고, 타임스텝의 셀 상태와 곱하여 새로운 셀 상태를 만든다.\n",
        "#셀 상태가 오른쪽에서 tanh함수를 통과하여 새로운 은닉상태를 만드는데 기여\n",
        "\n",
        "#LSTM은 마치 작은 셀을 여러개 포함하고 있는 큰 셀\n",
        "#그러니깐 은닉상태와 셀상태가 각각 다른 가중치로 곱해지고 셀 상태는 셀 상에서 머물고\n",
        "#은닉상태의 출력값을 뽑을때 tanh를 통과해서 은닉상태에서 활성화함수를 통과한 값과 곱한 후 이전ㄴ 셀 상태와 더한다.\n",
        "\n",
        "#최종결과는 방금이 삭제게이트고 입력게이트가 추가되고 tanh함수로 나가는게 출력게이트이다. 삭제 입력 게이트 곱해지고 tanh로 나온다.\n",
        "\n",
        "\n",
        "##LSTM 신경망 훈련하기\n",
        "\n",
        "from tensorflow.keras.datasets import imdb\n",
        "from sklearn.model_selection import train_test_split\n",
        "(train_input,train_target),(test_input,test_target) = imdb.load_data(num_words=500)\n",
        "train_input,val_input,train_target,val_target = train_test_split(train_input,train_target,test_size = 0.2,random_state=42)\n",
        "\n",
        "from tensorflow.keras.preprocessing.sequence import pad_sequences\n",
        "train_seq = pad_sequences(train_input,maxlen=100,truncating='post',padding='post')\n",
        "val_seq = pad_sequences(val_input,maxlen=100,truncating='post',padding='post')\n",
        "\n",
        "from tensorflow import keras\n",
        "model = keras.Sequential()\n",
        "model.add(keras.layers.Embedding(500,16,input_length=100))\n",
        "model.add(keras.layers.LSTM(8))\n",
        "model.add(keras.layers.Dense(1,activation='sigmoid'))\n",
        "model.summary()\n",
        "#방금 파라미터가 200개 였지만 여기서 800개가 되었다!!"
      ],
      "execution_count": null,
      "outputs": [
        {
          "output_type": "stream",
          "name": "stdout",
          "text": [
            "Downloading data from https://storage.googleapis.com/tensorflow/tf-keras-datasets/imdb.npz\n",
            "17465344/17464789 [==============================] - 0s 0us/step\n",
            "17473536/17464789 [==============================] - 0s 0us/step\n",
            "Model: \"sequential_1\"\n",
            "_________________________________________________________________\n",
            "Layer (type)                 Output Shape              Param #   \n",
            "=================================================================\n",
            "embedding_1 (Embedding)      (None, 100, 16)           8000      \n",
            "_________________________________________________________________\n",
            "lstm_1 (LSTM)                (None, 8)                 800       \n",
            "_________________________________________________________________\n",
            "dense_1 (Dense)              (None, 1)                 9         \n",
            "=================================================================\n",
            "Total params: 8,809\n",
            "Trainable params: 8,809\n",
            "Non-trainable params: 0\n",
            "_________________________________________________________________\n"
          ]
        }
      ]
    },
    {
      "cell_type": "code",
      "metadata": {
        "colab": {
          "base_uri": "https://localhost:8080/"
        },
        "id": "u8BjAkqe35D0",
        "outputId": "8daf51f1-72ae-46d1-df12-86e87be350e6"
      },
      "source": [
        "rmsprop = keras.optimizers.RMSprop(learning_rate=1e-4)\n",
        "model.compile(optimizer=rmsprop,loss='binary_crossentropy',metrics=['accuracy'])\n",
        "checkpoint_cb = keras.callbacks.ModelCheckpoint('best-lstm-model.h5',save_best_only=True)\n",
        "early_stopping_cb = keras.callbacks.EarlyStopping(patience=3,restore_best_weights=True)\n",
        "model.fit(train_seq,train_target,epochs=100,batch_size=64,validation_data=(val_seq,val_target),callbacks=[checkpoint_cb,early_stopping_cb])"
      ],
      "execution_count": null,
      "outputs": [
        {
          "output_type": "stream",
          "name": "stdout",
          "text": [
            "Epoch 1/100\n",
            "313/313 [==============================] - 13s 21ms/step - loss: 0.6927 - accuracy: 0.5247 - val_loss: 0.6923 - val_accuracy: 0.5284\n",
            "Epoch 2/100\n",
            "313/313 [==============================] - 6s 19ms/step - loss: 0.6915 - accuracy: 0.5476 - val_loss: 0.6907 - val_accuracy: 0.5398\n",
            "Epoch 3/100\n",
            "313/313 [==============================] - 6s 19ms/step - loss: 0.6874 - accuracy: 0.5779 - val_loss: 0.6805 - val_accuracy: 0.5900\n",
            "Epoch 4/100\n",
            "313/313 [==============================] - 6s 19ms/step - loss: 0.6560 - accuracy: 0.6571 - val_loss: 0.6355 - val_accuracy: 0.6864\n",
            "Epoch 5/100\n",
            "313/313 [==============================] - 6s 19ms/step - loss: 0.6215 - accuracy: 0.6989 - val_loss: 0.6154 - val_accuracy: 0.7090\n",
            "Epoch 6/100\n",
            "313/313 [==============================] - 6s 19ms/step - loss: 0.6032 - accuracy: 0.7176 - val_loss: 0.6004 - val_accuracy: 0.7162\n",
            "Epoch 7/100\n",
            "313/313 [==============================] - 6s 19ms/step - loss: 0.5874 - accuracy: 0.7273 - val_loss: 0.5876 - val_accuracy: 0.7192\n",
            "Epoch 8/100\n",
            "313/313 [==============================] - 6s 19ms/step - loss: 0.5717 - accuracy: 0.7385 - val_loss: 0.5843 - val_accuracy: 0.7226\n",
            "Epoch 9/100\n",
            "313/313 [==============================] - 6s 19ms/step - loss: 0.5571 - accuracy: 0.7461 - val_loss: 0.5625 - val_accuracy: 0.7312\n",
            "Epoch 10/100\n",
            "313/313 [==============================] - 6s 19ms/step - loss: 0.5422 - accuracy: 0.7551 - val_loss: 0.5513 - val_accuracy: 0.7400\n",
            "Epoch 11/100\n",
            "313/313 [==============================] - 6s 19ms/step - loss: 0.5284 - accuracy: 0.7597 - val_loss: 0.5380 - val_accuracy: 0.7444\n",
            "Epoch 12/100\n",
            "313/313 [==============================] - 6s 20ms/step - loss: 0.5165 - accuracy: 0.7681 - val_loss: 0.5301 - val_accuracy: 0.7482\n",
            "Epoch 13/100\n",
            "313/313 [==============================] - 6s 19ms/step - loss: 0.5062 - accuracy: 0.7731 - val_loss: 0.5225 - val_accuracy: 0.7512\n",
            "Epoch 14/100\n",
            "313/313 [==============================] - 6s 19ms/step - loss: 0.4988 - accuracy: 0.7765 - val_loss: 0.5184 - val_accuracy: 0.7538\n",
            "Epoch 15/100\n",
            "313/313 [==============================] - 6s 19ms/step - loss: 0.4929 - accuracy: 0.7781 - val_loss: 0.5131 - val_accuracy: 0.7554\n",
            "Epoch 16/100\n",
            "313/313 [==============================] - 6s 19ms/step - loss: 0.4880 - accuracy: 0.7804 - val_loss: 0.5136 - val_accuracy: 0.7512\n",
            "Epoch 17/100\n",
            "313/313 [==============================] - 6s 19ms/step - loss: 0.4835 - accuracy: 0.7835 - val_loss: 0.5093 - val_accuracy: 0.7568\n",
            "Epoch 18/100\n",
            "313/313 [==============================] - 6s 19ms/step - loss: 0.4805 - accuracy: 0.7841 - val_loss: 0.5040 - val_accuracy: 0.7574\n",
            "Epoch 19/100\n",
            "313/313 [==============================] - 6s 19ms/step - loss: 0.4778 - accuracy: 0.7836 - val_loss: 0.5086 - val_accuracy: 0.7544\n",
            "Epoch 20/100\n",
            "313/313 [==============================] - 6s 19ms/step - loss: 0.4746 - accuracy: 0.7837 - val_loss: 0.5020 - val_accuracy: 0.7590\n",
            "Epoch 21/100\n",
            "313/313 [==============================] - 6s 19ms/step - loss: 0.4724 - accuracy: 0.7847 - val_loss: 0.5009 - val_accuracy: 0.7564\n",
            "Epoch 22/100\n",
            "313/313 [==============================] - 6s 19ms/step - loss: 0.4710 - accuracy: 0.7859 - val_loss: 0.5062 - val_accuracy: 0.7542\n",
            "Epoch 23/100\n",
            "313/313 [==============================] - 6s 19ms/step - loss: 0.4689 - accuracy: 0.7847 - val_loss: 0.5014 - val_accuracy: 0.7610\n",
            "Epoch 24/100\n",
            "313/313 [==============================] - 6s 19ms/step - loss: 0.4673 - accuracy: 0.7872 - val_loss: 0.4964 - val_accuracy: 0.7600\n",
            "Epoch 25/100\n",
            "313/313 [==============================] - 6s 19ms/step - loss: 0.4663 - accuracy: 0.7851 - val_loss: 0.4974 - val_accuracy: 0.7588\n",
            "Epoch 26/100\n",
            "313/313 [==============================] - 6s 19ms/step - loss: 0.4645 - accuracy: 0.7856 - val_loss: 0.4960 - val_accuracy: 0.7620\n",
            "Epoch 27/100\n",
            "313/313 [==============================] - 6s 19ms/step - loss: 0.4637 - accuracy: 0.7865 - val_loss: 0.4937 - val_accuracy: 0.7606\n",
            "Epoch 28/100\n",
            "313/313 [==============================] - 6s 19ms/step - loss: 0.4622 - accuracy: 0.7875 - val_loss: 0.4949 - val_accuracy: 0.7574\n",
            "Epoch 29/100\n",
            "313/313 [==============================] - 6s 19ms/step - loss: 0.4618 - accuracy: 0.7852 - val_loss: 0.4971 - val_accuracy: 0.7606\n",
            "Epoch 30/100\n",
            "313/313 [==============================] - 6s 19ms/step - loss: 0.4603 - accuracy: 0.7876 - val_loss: 0.4925 - val_accuracy: 0.7596\n",
            "Epoch 31/100\n",
            "313/313 [==============================] - 6s 19ms/step - loss: 0.4592 - accuracy: 0.7871 - val_loss: 0.4922 - val_accuracy: 0.7624\n",
            "Epoch 32/100\n",
            "313/313 [==============================] - 6s 19ms/step - loss: 0.4585 - accuracy: 0.7873 - val_loss: 0.4912 - val_accuracy: 0.7618\n",
            "Epoch 33/100\n",
            "313/313 [==============================] - 6s 19ms/step - loss: 0.4575 - accuracy: 0.7883 - val_loss: 0.4914 - val_accuracy: 0.7632\n",
            "Epoch 34/100\n",
            "313/313 [==============================] - 6s 19ms/step - loss: 0.4570 - accuracy: 0.7871 - val_loss: 0.4911 - val_accuracy: 0.7606\n",
            "Epoch 35/100\n",
            "313/313 [==============================] - 6s 19ms/step - loss: 0.4566 - accuracy: 0.7865 - val_loss: 0.4971 - val_accuracy: 0.7624\n",
            "Epoch 36/100\n",
            "313/313 [==============================] - 6s 19ms/step - loss: 0.4551 - accuracy: 0.7893 - val_loss: 0.4908 - val_accuracy: 0.7648\n",
            "Epoch 37/100\n",
            "313/313 [==============================] - 6s 19ms/step - loss: 0.4557 - accuracy: 0.7882 - val_loss: 0.4935 - val_accuracy: 0.7584\n",
            "Epoch 38/100\n",
            "313/313 [==============================] - 6s 19ms/step - loss: 0.4551 - accuracy: 0.7872 - val_loss: 0.4905 - val_accuracy: 0.7618\n",
            "Epoch 39/100\n",
            "313/313 [==============================] - 6s 19ms/step - loss: 0.4544 - accuracy: 0.7881 - val_loss: 0.4899 - val_accuracy: 0.7638\n",
            "Epoch 40/100\n",
            "313/313 [==============================] - 6s 19ms/step - loss: 0.4534 - accuracy: 0.7888 - val_loss: 0.4915 - val_accuracy: 0.7670\n",
            "Epoch 41/100\n",
            "313/313 [==============================] - 6s 19ms/step - loss: 0.4529 - accuracy: 0.7878 - val_loss: 0.4928 - val_accuracy: 0.7638\n",
            "Epoch 42/100\n",
            "313/313 [==============================] - 6s 19ms/step - loss: 0.4525 - accuracy: 0.7893 - val_loss: 0.4909 - val_accuracy: 0.7638\n"
          ]
        },
        {
          "output_type": "execute_result",
          "data": {
            "text/plain": [
              "<keras.callbacks.History at 0x7fca338fa350>"
            ]
          },
          "metadata": {},
          "execution_count": 4
        }
      ]
    },
    {
      "cell_type": "code",
      "metadata": {
        "colab": {
          "base_uri": "https://localhost:8080/",
          "height": 279
        },
        "id": "-M0bv5km4Zuo",
        "outputId": "34f60e2d-9ea5-4493-af99-d1e143b71d77"
      },
      "source": [
        "plt.plot(history.history['loss'])\n",
        "plt.plot(history.history['val_loss'])\n",
        "plt.xlabel('epoch')\n",
        "plt.ylabel('loss')\n",
        "plt.legend(['train','val'])\n",
        "plt.show()\n",
        "#뭐 책에서는 과대 접합이 줄어든다고 나왔다\n",
        "#idbm 에서 지금 데이터가 바뀌었나보다\n"
      ],
      "execution_count": null,
      "outputs": [
        {
          "output_type": "display_data",
          "data": {
            "image/png": "[encoded data removed]",
            "text/plain": [
              "<Figure size 432x288 with 1 Axes>"
            ]
          },
          "metadata": {
            "needs_background": "light"
          }
        }
      ]
    },
    {
      "cell_type": "code",
      "metadata": {
        "colab": {
          "base_uri": "https://localhost:8080/",
          "height": 460
        },
        "id": "LSYVidJz8COd",
        "outputId": "209f93e0-5dbc-4825-ba5e-e9616201d491"
      },
      "source": [
        "##순환층에 드롭아웃 적용하기\n",
        "#완전 연결 신경망과 합성곱 신경망에서는 Dropout 클래스를 사용해 드롭아웃을 적용\n",
        "#순환층은 자체적으로 드롭아웃 기능을 제공. SimpleRNN 과 LSTM 클래스 모두 dropout변수와 recurrent_dropout매개변수를 가지고 있다.\n",
        "\n",
        "#dropout 매개변수는 셀의 입력에 드롭아웃을 적용하고 recurrent_dropout은 순환되는 은닉상태에 드롭아웃을 적용\n",
        "#하지만 기술적인 문제로 인해 recurrnet_dtopout을 사용하면 GPU를 사용하여 모델을 훈현하지 못한다.\n",
        "\n",
        "#이 때문에 모델의 훈련속도가 크게 느려진다.\n",
        "#따라서 여기선 dropout만 사용\n",
        "\n",
        "#dropout 매개변수를 0.3으로 지정하여 30%입력을 드롭아웃\n",
        "\n",
        "\n",
        "\n",
        "from tensorflow import keras\n",
        "model = keras.Sequential()\n",
        "model.add(keras.layers.Embedding(500,16,input_length=100))\n",
        "model.add(keras.layers.LSTM(8,dropout=0.3))\n",
        "model.add(keras.layers.Dense(1,activation='sigmoid'))\n",
        "model.summary()\n",
        "#방금 파라미터가 200개 였지만 여기서 800개가 되었다!!\n",
        "\n",
        "rmsprop = keras.optimizers.RMSprop(learning_rate=1e-4)\n",
        "model.compile(optimizer=rmsprop,loss='binary_crossentropy',metrics=['accuracy'])\n",
        "checkpoint_cb = keras.callbacks.ModelCheckpoint('best-lstm-model.h5',save_best_only=True)\n",
        "early_stopping_cb = keras.callbacks.EarlyStopping(patience=3,restore_best_weights=True)\n",
        "model.fit(train_seq,train_target,epochs=100,batch_size=64,validation_data=(val_seq,val_target),callbacks=[checkpoint_cb,early_stopping_cb])"
      ],
      "execution_count": null,
      "outputs": [
        {
          "output_type": "stream",
          "name": "stdout",
          "text": [
            "Model: \"sequential\"\n",
            "_________________________________________________________________\n",
            "Layer (type)                 Output Shape              Param #   \n",
            "=================================================================\n",
            "embedding (Embedding)        (None, 100, 16)           8000      \n",
            "_________________________________________________________________\n",
            "lstm (LSTM)                  (None, 8)                 800       \n",
            "_________________________________________________________________\n",
            "dense (Dense)                (None, 1)                 9         \n",
            "=================================================================\n",
            "Total params: 8,809\n",
            "Trainable params: 8,809\n",
            "Non-trainable params: 0\n",
            "_________________________________________________________________\n"
          ]
        },
        {
          "output_type": "error",
          "ename": "NameError",
          "evalue": "ignored",
          "traceback": [
            "\u001b[0;31m---------------------------------------------------------------------------\u001b[0m",
            "\u001b[0;31mNameError\u001b[0m                                 Traceback (most recent call last)",
            "\u001b[0;32m<ipython-input-2-9f1634a52e15>\u001b[0m in \u001b[0;36m<module>\u001b[0;34m()\u001b[0m\n\u001b[1;32m     25\u001b[0m \u001b[0mcheckpoint_cb\u001b[0m \u001b[0;34m=\u001b[0m \u001b[0mkeras\u001b[0m\u001b[0;34m.\u001b[0m\u001b[0mcallbacks\u001b[0m\u001b[0;34m.\u001b[0m\u001b[0mModelCheckpoint\u001b[0m\u001b[0;34m(\u001b[0m\u001b[0;34m'best-lstm-model.h5'\u001b[0m\u001b[0;34m,\u001b[0m\u001b[0msave_best_only\u001b[0m\u001b[0;34m=\u001b[0m\u001b[0;32mTrue\u001b[0m\u001b[0;34m)\u001b[0m\u001b[0;34m\u001b[0m\u001b[0;34m\u001b[0m\u001b[0m\n\u001b[1;32m     26\u001b[0m \u001b[0mearly_stopping_cb\u001b[0m \u001b[0;34m=\u001b[0m \u001b[0mkeras\u001b[0m\u001b[0;34m.\u001b[0m\u001b[0mcallbacks\u001b[0m\u001b[0;34m.\u001b[0m\u001b[0mEarlyStopping\u001b[0m\u001b[0;34m(\u001b[0m\u001b[0mpatience\u001b[0m\u001b[0;34m=\u001b[0m\u001b[0;36m3\u001b[0m\u001b[0;34m,\u001b[0m\u001b[0mrestore_best_weights\u001b[0m\u001b[0;34m=\u001b[0m\u001b[0;32mTrue\u001b[0m\u001b[0;34m)\u001b[0m\u001b[0;34m\u001b[0m\u001b[0;34m\u001b[0m\u001b[0m\n\u001b[0;32m---> 27\u001b[0;31m \u001b[0mmodel\u001b[0m\u001b[0;34m.\u001b[0m\u001b[0mfit\u001b[0m\u001b[0;34m(\u001b[0m\u001b[0mtrain_seq\u001b[0m\u001b[0;34m,\u001b[0m\u001b[0mtrain_target\u001b[0m\u001b[0;34m,\u001b[0m\u001b[0mepochs\u001b[0m\u001b[0;34m=\u001b[0m\u001b[0;36m100\u001b[0m\u001b[0;34m,\u001b[0m\u001b[0mbatch_size\u001b[0m\u001b[0;34m=\u001b[0m\u001b[0;36m64\u001b[0m\u001b[0;34m,\u001b[0m\u001b[0mvalidation_data\u001b[0m\u001b[0;34m=\u001b[0m\u001b[0;34m(\u001b[0m\u001b[0mval_seq\u001b[0m\u001b[0;34m,\u001b[0m\u001b[0mval_target\u001b[0m\u001b[0;34m)\u001b[0m\u001b[0;34m,\u001b[0m\u001b[0mcallbacks\u001b[0m\u001b[0;34m=\u001b[0m\u001b[0;34m[\u001b[0m\u001b[0mcheckpoint_cb\u001b[0m\u001b[0;34m,\u001b[0m\u001b[0mearly_stopping_cb\u001b[0m\u001b[0;34m]\u001b[0m\u001b[0;34m)\u001b[0m\u001b[0;34m\u001b[0m\u001b[0;34m\u001b[0m\u001b[0m\n\u001b[0m",
            "\u001b[0;31mNameError\u001b[0m: name 'train_seq' is not defined"
          ]
        }
      ]
    },
    {
      "cell_type": "code",
      "metadata": {
        "colab": {
          "base_uri": "https://localhost:8080/",
          "height": 244
        },
        "id": "r6tYJh8b8sDE",
        "outputId": "7f084567-5c2a-4201-d2b0-66ad5578741a"
      },
      "source": [
        "plt.plot(history.history['loss'])\n",
        "plt.plot(history.history['val_loss'])\n",
        "plt.xlabel('epoch')\n",
        "plt.ylabel('loss')\n",
        "plt.legend(['train','val'])\n",
        "plt.show()\n"
      ],
      "execution_count": null,
      "outputs": [
        {
          "output_type": "error",
          "ename": "NameError",
          "evalue": "ignored",
          "traceback": [
            "\u001b[0;31m---------------------------------------------------------------------------\u001b[0m",
            "\u001b[0;31mNameError\u001b[0m                                 Traceback (most recent call last)",
            "\u001b[0;32m<ipython-input-5-3e3e75961f3b>\u001b[0m in \u001b[0;36m<module>\u001b[0;34m()\u001b[0m\n\u001b[0;32m----> 1\u001b[0;31m \u001b[0mplt\u001b[0m\u001b[0;34m.\u001b[0m\u001b[0mplot\u001b[0m\u001b[0;34m(\u001b[0m\u001b[0mhistory\u001b[0m\u001b[0;34m.\u001b[0m\u001b[0mhistory\u001b[0m\u001b[0;34m[\u001b[0m\u001b[0;34m'loss'\u001b[0m\u001b[0;34m]\u001b[0m\u001b[0;34m)\u001b[0m\u001b[0;34m\u001b[0m\u001b[0;34m\u001b[0m\u001b[0m\n\u001b[0m\u001b[1;32m      2\u001b[0m \u001b[0mplt\u001b[0m\u001b[0;34m.\u001b[0m\u001b[0mplot\u001b[0m\u001b[0;34m(\u001b[0m\u001b[0mhistory\u001b[0m\u001b[0;34m.\u001b[0m\u001b[0mhistory\u001b[0m\u001b[0;34m[\u001b[0m\u001b[0;34m'val_loss'\u001b[0m\u001b[0;34m]\u001b[0m\u001b[0;34m)\u001b[0m\u001b[0;34m\u001b[0m\u001b[0;34m\u001b[0m\u001b[0m\n\u001b[1;32m      3\u001b[0m \u001b[0mplt\u001b[0m\u001b[0;34m.\u001b[0m\u001b[0mxlabel\u001b[0m\u001b[0;34m(\u001b[0m\u001b[0;34m'epoch'\u001b[0m\u001b[0;34m)\u001b[0m\u001b[0;34m\u001b[0m\u001b[0;34m\u001b[0m\u001b[0m\n\u001b[1;32m      4\u001b[0m \u001b[0mplt\u001b[0m\u001b[0;34m.\u001b[0m\u001b[0mylabel\u001b[0m\u001b[0;34m(\u001b[0m\u001b[0;34m'loss'\u001b[0m\u001b[0;34m)\u001b[0m\u001b[0;34m\u001b[0m\u001b[0;34m\u001b[0m\u001b[0m\n\u001b[1;32m      5\u001b[0m \u001b[0mplt\u001b[0m\u001b[0;34m.\u001b[0m\u001b[0mlegend\u001b[0m\u001b[0;34m(\u001b[0m\u001b[0;34m[\u001b[0m\u001b[0;34m'train'\u001b[0m\u001b[0;34m,\u001b[0m\u001b[0;34m'val'\u001b[0m\u001b[0;34m]\u001b[0m\u001b[0;34m)\u001b[0m\u001b[0;34m\u001b[0m\u001b[0;34m\u001b[0m\u001b[0m\n",
            "\u001b[0;31mNameError\u001b[0m: name 'plt' is not defined"
          ]
        }
      ]
    },
    {
      "cell_type": "markdown",
      "metadata": {
        "id": "8T7RfonP0hjV"
      },
      "source": [
        ""
      ]
    }
  ]
}
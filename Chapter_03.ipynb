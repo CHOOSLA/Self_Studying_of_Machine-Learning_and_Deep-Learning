{
  "nbformat": 4,
  "nbformat_minor": 0,
  "metadata": {
    "colab": {
      "name": "Chapter_03",
      "provenance": [],
      "authorship_tag": "ABX9TyNLyQ7Dpqz9C5bPM/VywlLU",
      "include_colab_link": true
    },
    "kernelspec": {
      "name": "python3",
      "display_name": "Python 3"
    },
    "language_info": {
      "name": "python"
    }
  },
  "cells": [
    {
      "cell_type": "markdown",
      "metadata": {
        "id": "view-in-github",
        "colab_type": "text"
      },
      "source": [
        "<a href=\"https://colab.research.google.com/github/CHOOSLA/Self_Studying_of_Machine-Learning_and_Deep-Learning/blob/main/Chapter_03.ipynb\" target=\"_parent\"><img src=\"https://colab.research.google.com/assets/colab-badge.svg\" alt=\"Open In Colab\"/></a>"
      ]
    },
    {
      "cell_type": "code",
      "metadata": {
        "colab": {
          "base_uri": "https://localhost:8080/",
          "height": 685
        },
        "id": "wnOkIeIl34vx",
        "outputId": "33fe5cc7-025c-4da5-9c11-1c1f3817ea6b"
      },
      "source": [
        "import numpy as np\n",
        "\n",
        "perch_length = np.array([8.4, 13.7, 15.0, 16.2, 17.4, 18.0, 18.7, 19.0, 19.6, 20.0, 21.0,\n",
        "       21.0, 21.0, 21.3, 22.0, 22.0, 22.0, 22.0, 22.0, 22.5, 22.5, 22.7,\n",
        "       23.0, 23.5, 24.0, 24.0, 24.6, 25.0, 25.6, 26.5, 27.3, 27.5, 27.5,\n",
        "       27.5, 28.0, 28.7, 30.0, 32.8, 34.5, 35.0, 36.5, 36.0, 37.0, 37.0,\n",
        "       39.0, 39.0, 39.0, 40.0, 40.0, 40.0, 40.0, 42.0, 43.0, 43.0, 43.5,\n",
        "       44.0])\n",
        "perch_weight = np.array([5.9, 32.0, 40.0, 51.5, 70.0, 100.0, 78.0, 80.0, 85.0, 85.0, 110.0,\n",
        "       115.0, 125.0, 130.0, 120.0, 120.0, 130.0, 135.0, 110.0, 130.0,\n",
        "       150.0, 145.0, 150.0, 170.0, 225.0, 145.0, 188.0, 180.0, 197.0,\n",
        "       218.0, 300.0, 260.0, 265.0, 250.0, 250.0, 300.0, 320.0, 514.0,\n",
        "       556.0, 840.0, 685.0, 700.0, 700.0, 690.0, 900.0, 650.0, 820.0,\n",
        "       850.0, 900.0, 1015.0, 820.0, 1100.0, 1000.0, 1100.0, 1000.0,\n",
        "       1000.0])\n",
        "\n",
        "import matplotlib.pyplot as plt\n",
        "\n",
        "plt.scatter(perch_length,perch_weight)\n",
        "plt.xlabel('length')\n",
        "plt.ylabel('weight')\n",
        "plt.show()\n",
        "\n",
        "from sklearn.model_selection import train_test_split\n",
        "train_input,test_input,train_target,test_target = train_test_split(perch_length,perch_weight,random_state=42)\n",
        "\n",
        "train_input = train_input.reshape(-1,1)\n",
        "test_input = test_input.reshape(-1,1) #일차원 리스트를 이차원 리스트로 만들라는것\n",
        "#-1은 나머지 원소를 모두 선택하라는 것\n",
        "print(train_input.shape,test_input.shape)\n",
        "\n",
        "from sklearn.neighbors import KNeighborsRegressor\n",
        "\n",
        "knr = KNeighborsRegressor()\n",
        "\n",
        "knr.fit(train_input,train_target)\n",
        "\n",
        "print(knr.score(test_input,test_target))\n",
        "#회귀알고리즘에서 이 점수는 결정계쑤라고 부른다\n",
        "#R^2이라고도 부릅니다\n",
        "\n",
        "from sklearn.metrics import mean_absolute_error\n",
        "\n",
        "#테스트 세트에 대한 예측을 만듭니다\n",
        "test_prediction = knr.predict(test_input)\n",
        "\n",
        "#데스트 세트에 대한 평균 절대값 오차를 계산합니다\n",
        "mae = mean_absolute_error(test_target,test_prediction)\n",
        "print(mae)\n",
        "\n",
        "print(knr.score(train_input,train_target))\n",
        "#테스트 세트와 훈련세트를 하었을 때, 훈련세트가 점수가 너무 높고 , 테스트가 낮다면\n",
        "#과대접합이라고 한다.\n",
        "#반대로 훈련세트보다 테스트 세트의 점수가 높거나 두 점수가 모두 낮으면\n",
        "#과소 접합이라고 한다.\n",
        "\n",
        "knr.n_neighbors = 3\n",
        "\n",
        "knr.fit(train_input,train_target)\n",
        "knr.score(test_input,test_target)\n",
        "\n",
        "#과대접합 과소접합 외우기"
      ],
      "execution_count": null,
      "outputs": [
        {
          "output_type": "display_data",
          "data": {
            "image/png": "[encoded data removed]",
            "text/plain": [
              "<Figure size 432x288 with 1 Axes>"
            ]
          },
          "metadata": {
            "needs_background": "light"
          }
        },
        {
          "output_type": "stream",
          "name": "stdout",
          "text": [
            "(42, 1) (14, 1)\n",
            "0.9928094061010639\n",
            "19.157142857142862\n",
            "0.9698823289099255\n"
          ]
        },
        {
          "output_type": "display_data",
          "data": {
            "image/png": "[encoded data removed]",
            "text/plain": [
              "<Figure size 432x288 with 1 Axes>"
            ]
          },
          "metadata": {
            "needs_background": "light"
          }
        },
        {
          "output_type": "stream",
          "name": "stdout",
          "text": [
            "alpha값을 고르고 뽑은 결과\n",
            "0.9903815817570366\n",
            "0.9827976465386927\n",
            "0.9897898972080961\n"
          ]
        }
      ]
    },
    {
      "cell_type": "code",
      "metadata": {
        "colab": {
          "base_uri": "https://localhost:8080/",
          "height": 965
        },
        "id": "Fa3ozLN6Ziwf",
        "outputId": "7e83837a-7b8c-48f8-a4a9-b31f1d562acc"
      },
      "source": [
        "import numpy as np\n",
        "perch_length = np.array([8.4, 13.7, 15.0, 16.2, 17.4, 18.0, 18.7, 19.0, 19.6, 20.0, 21.0,\n",
        "       21.0, 21.0, 21.3, 22.0, 22.0, 22.0, 22.0, 22.0, 22.5, 22.5, 22.7,\n",
        "       23.0, 23.5, 24.0, 24.0, 24.6, 25.0, 25.6, 26.5, 27.3, 27.5, 27.5,\n",
        "       27.5, 28.0, 28.7, 30.0, 32.8, 34.5, 35.0, 36.5, 36.0, 37.0, 37.0,\n",
        "       39.0, 39.0, 39.0, 40.0, 40.0, 40.0, 40.0, 42.0, 43.0, 43.0, 43.5,\n",
        "       44.0])\n",
        "perch_weight = np.array([5.9, 32.0, 40.0, 51.5, 70.0, 100.0, 78.0, 80.0, 85.0, 85.0, 110.0,\n",
        "       115.0, 125.0, 130.0, 120.0, 120.0, 130.0, 135.0, 110.0, 130.0,\n",
        "       150.0, 145.0, 150.0, 170.0, 225.0, 145.0, 188.0, 180.0, 197.0,\n",
        "       218.0, 300.0, 260.0, 265.0, 250.0, 250.0, 300.0, 320.0, 514.0,\n",
        "       556.0, 840.0, 685.0, 700.0, 700.0, 690.0, 900.0, 650.0, 820.0,\n",
        "       850.0, 900.0, 1015.0, 820.0, 1100.0, 1000.0, 1100.0, 1000.0,\n",
        "       1000.0])\n",
        "\n",
        "from sklearn.model_selection import train_test_split\n",
        "\n",
        "train_input,test_input,train_target,test_target = train_test_split(perch_length,perch_weight,random_state=42)\n",
        "\n",
        "train_input = train_input.reshape(-1,1)\n",
        "test_input = test_input.reshape(-1,1)\n",
        "\n",
        "from sklearn.neighbors import KNeighborsRegressor\n",
        "\n",
        "knr = KNeighborsRegressor(n_neighbors=3)\n",
        "knr.fit(train_input,train_target)\n",
        "\n",
        "#최근접 회귀알고리즘은 이웃들로 평균을 내기때문에 길이가 아무리 늘어나도\n",
        "#결국 1033밖에 나오지 않는다.\n",
        "print(knr.predict([[1000]]))\n",
        "\n",
        "#50cm 농어의 이웃을 구합니다\n",
        "distances,indexes = knr.kneighbors([[50]])\n",
        "\n",
        "import matplotlib.pyplot as plt\n",
        "plt.scatter(train_input,train_target)\n",
        "plt.scatter(train_input[indexes],train_target[indexes],marker='D')\n",
        "\n",
        "#50cm 농어의 데이터\n",
        "plt.scatter(1000,1033,marker='^')\n",
        "plt.xlabel('length')\n",
        "plt.ylabel('weight')\n",
        "plt.show()\n",
        "\n",
        "\n",
        "#선형회귀\n",
        "from sklearn.linear_model import LinearRegression\n",
        "lr = LinearRegression()\n",
        "\n",
        "#선형 회귀 모델을 훈련합니다\n",
        "lr.fit(train_input,train_target)\n",
        "\n",
        "#50cm 농어에 대해 예측합니다\n",
        "print(lr.predict([[50]]))\n",
        "print(lr.coef_,lr.intercept_)\n",
        "\n",
        "plt.scatter(train_input,train_target)\n",
        "\n",
        "plt.plot([15,50],[15*lr.coef_+lr.intercept_,50*lr.coef_+lr.intercept_])\n",
        "\n",
        "plt.scatter(50,1241.8,marker='^')\n",
        "plt.xlabel('length')\n",
        "plt.ylabel('weight')\n",
        "plt.show()\n",
        "\n",
        "#이대로가면 직선이 \n",
        "train_poly = np.column_stack((train_input **2,train_input))\n",
        "test_poly = np.column_stack((test_input**2,test_input))\n",
        "\n",
        "lr = LinearRegression()\n",
        "lr.fit(train_poly,train_target)\n",
        "\n",
        "print(lr.predict([[50**2,50]]))\n",
        "\n",
        "print(lr.coef_,lr.intercept_)\n",
        "#y = 1.01 * 길이^2 - 21.6 * 길이 + 116.05 으로 계산함\n",
        "\n",
        "point = np.arange(15,50) # 15~ 49 까지 1씩 증가하는 배열\n",
        "plt.scatter(train_input,train_target)\n",
        "\n",
        "plt.plot(point,1.01 * point **2 - 21.8 * point + 106.05)\n",
        "\n",
        "#50cm 농어 데이터\n",
        "plt.scatter(50,1574,marker='^')\n",
        "plt.xlabel('length')\n",
        "plt.ylabel('weight')\n",
        "plt.show()\n",
        "\n",
        "print(\"길이를 제곱을해서 다항으로 만든 것에 대한 train 점수\")\n",
        "print(lr.score(train_poly,train_target))\n",
        "print(\"길이를 제곱을해서 다항으로 만든 것에 대한 test 점수\")\n",
        "print(lr.score(test_poly,test_target))\n"
      ],
      "execution_count": null,
      "outputs": [
        {
          "output_type": "stream",
          "name": "stdout",
          "text": [
            "[1033.33333333]\n"
          ]
        },
        {
          "output_type": "display_data",
          "data": {
            "image/png": "[encoded data removed]",
            "text/plain": [
              "<Figure size 432x288 with 1 Axes>"
            ]
          },
          "metadata": {
            "needs_background": "light"
          }
        },
        {
          "output_type": "stream",
          "name": "stdout",
          "text": [
            "[1241.83860323]\n",
            "[39.01714496] -709.0186449535477\n"
          ]
        },
        {
          "output_type": "display_data",
          "data": {
            "image/png": "[encoded data removed]",
            "text/plain": [
              "<Figure size 432x288 with 1 Axes>"
            ]
          },
          "metadata": {
            "needs_background": "light"
          }
        },
        {
          "output_type": "stream",
          "name": "stdout",
          "text": [
            "[1573.98423528]\n",
            "[  1.01433211 -21.55792498] 116.05021078278276\n"
          ]
        },
        {
          "output_type": "display_data",
          "data": {
            "image/png": "[encoded data removed]",
            "text/plain": [
              "<Figure size 432x288 with 1 Axes>"
            ]
          },
          "metadata": {
            "needs_background": "light"
          }
        },
        {
          "output_type": "stream",
          "name": "stdout",
          "text": [
            "길이를 제곱을해서 다항으로 만든 것에 대한 train 점수\n",
            "0.9706807451768623\n",
            "길이를 제곱을해서 다항으로 만든 것에 대한 test 점수\n",
            "0.9775935108325122\n"
          ]
        }
      ]
    },
    {
      "cell_type": "code",
      "metadata": {
        "colab": {
          "base_uri": "https://localhost:8080/",
          "height": 955
        },
        "id": "DyL8HheefCkF",
        "outputId": "0704a93f-d1a0-4998-9d6a-4545537773be"
      },
      "source": [
        "##03-3 특성 공학과 규제\n",
        "#여러개의 특성을 사용한 선형 회귀를 다중회귀라고 부른다\n",
        "#농어의 길이 뿐만 아니라 농어의 높이와 두께도 함께 사용\n",
        "#3개의 특성을 각각 제곱하여 추가.\n",
        "#거기다가 각 특성을 서로 곱해서 또 다른 특성을 만든다.\n",
        "#즉, 농어 길이 x 농어 높이 를 새롱누 특성으로 만드는 것\n",
        "#이렇게 기존의 특성을 사용해 새로운 특성을 뽑아내는 작업을 특성 공학(feature enginerring) 이라고 한다.\n",
        "\n",
        "\n",
        "#데이터 준비\n",
        "#인터넷에서 데이터를 다운로드하여 사용하는 것 pandas를 사용\n",
        "#pandas는 유명한 데이터 분석 라이브러리.\n",
        "#데이터프레임은 판다스의 핵심 데이터 구조\n",
        "#넘파이 배열과 비슷하게 다차원 배열을 다룰 수 있지만 훨씬 더 많은 기능을 제공\n",
        "\n",
        "import pandas as pd\n",
        "df = pd.read_csv('https://bit.ly/perch_csv_data') #pandas에 csv파일을 읽게하고\n",
        "perch_full = df.to_numpy()  #읽어온 데이터프레임을 numpy배열로 만든다.\n",
        "\n",
        "#print(perch_full)\n",
        "\n",
        "import numpy as np\n",
        "\n",
        "perch_weight = np.array([5.9, 32.0, 40.0, 51.5, 70.0, 100.0, 78.0, 80.0, 85.0, 85.0, 110.0,\n",
        "       115.0, 125.0, 130.0, 120.0, 120.0, 130.0, 135.0, 110.0, 130.0,\n",
        "       150.0, 145.0, 150.0, 170.0, 225.0, 145.0, 188.0, 180.0, 197.0,\n",
        "       218.0, 300.0, 260.0, 265.0, 250.0, 250.0, 300.0, 320.0, 514.0,\n",
        "       556.0, 840.0, 685.0, 700.0, 700.0, 690.0, 900.0, 650.0, 820.0,\n",
        "       850.0, 900.0, 1015.0, 820.0, 1100.0, 1000.0, 1100.0, 1000.0,\n",
        "       1000.0])\n",
        "\n",
        "from sklearn.model_selection import train_test_split\n",
        "\n",
        "train_input,test_input,train_target,test_target = train_test_split(perch_full,perch_weight,random_state=42)\n",
        "\n",
        "\n",
        "#사이킷런 변환기 : 사이킷런은 특성을 만들거나 전처리하기 위한 다양한 클래스이것을 변환기라고함\n",
        "#사이킷런의 모델 클래스에 일관된 fit score predict 메서드가 있듯이 변환기 클래스도 fit transform 메서드를 제공\n",
        "\n",
        "from sklearn.preprocessing import PolynomialFeatures\n",
        "poly = PolynomialFeatures()\n",
        "poly.fit([[2,3]])\n",
        "print(poly.transform([[2,3]]))\n",
        "\n",
        "#PolynomialFeatures는 무게 = a x 길이 + b x 높이 + c x 두께 + d x 1\n",
        "#선형 방정식의 절편을 항상 값이 1인 특성과 곱해지는 계수\n",
        "#이렇게 놓고 보면 (길이, 높이 , 두께 , 1)\n",
        "#하지만 사이킷런의 선형모델은 자동으로 절편을 추가하므로 이렇게할 필요가 없다\n",
        "poly = PolynomialFeatures(include_bias = False) #절편 제거\n",
        "poly.fit([[2,3]])\n",
        "print(poly.transform([[2,3]]))\n",
        "#하지만 사이킷런 모델은 자동으로 특성에 추가된 절편 항을 무시한다. 즉, 굳이 필요 없다\n",
        "\n",
        "poly = PolynomialFeatures(include_bias = False)\n",
        "poly.fit(train_input)\n",
        "train_poly = poly.transform(train_input)\n",
        "print(train_poly.shape)# 9개의 특성을 가진 42개의 데이터 \n",
        "poly.get_feature_names()\n",
        "test_poly = poly.transform(test_input)\n",
        "\n",
        "from sklearn.linear_model import LinearRegression\n",
        "lr = LinearRegression()\n",
        "lr.fit(train_poly,train_target)\n",
        "print('PolynomialFeatures를 사용해 특성을 늘린것')\n",
        "print(lr.score(train_poly,train_target))\n",
        "print(lr.score(test_poly,test_target)) #현재 과대접합 상태\n",
        "\n",
        "#3제곱 4제곱 항도 추가\n",
        "poly = PolynomialFeatures(degree=5,include_bias=False)\n",
        "poly.fit(train_input)\n",
        "train_poly = poly.transform(train_input)\n",
        "test_poly = poly.transform(test_input)\n",
        "print(train_poly.shape)\n",
        "\n",
        "lr.fit(train_poly,train_target)\n",
        "print('특성을 degree =5 로 함으로 특성을 55개 만들었을 때 점수')\n",
        "print(lr.score(test_poly,test_target))#특성이 55개나 되므로 샘플보다 많아지고 극심한 과대접합이 되었다...\n",
        "\n",
        "\n",
        "\n",
        "#########################\n",
        "## 규재 #################\n",
        "#########################\n",
        "\n",
        "#머신러닝 모델이 훈련세트를 너무 과도하게 학습하지 못하도록 훼방하는 것을 말한다.\n",
        "\n",
        "from sklearn.preprocessing import StandardScaler\n",
        "#특성 스케일이 정규화 되어 있지 않으면 공정하게 제어되지 않을 겁니다!\n",
        "\n",
        "ss = StandardScaler()\n",
        "ss.fit(train_poly)\n",
        "train_scaled = ss.transform(train_poly)\n",
        "test_scaled = ss.transform(test_poly)\n",
        "#표준점수화\n",
        "\n",
        "#선형회귀모델에 규제를 추가한 모델을 '릿지'와 '라쏘'라고 부른다\n",
        "#릿지는 계수를 제곱한 값을 기준으로 규제\n",
        "#라쏘는 계수의 절댓값을 기준으로 규제\n",
        "#일반적으로 릿지를 조금 더 선호\n",
        "#라쏘는 아예 0으로 만들 수도 있음\n",
        "\n",
        "#릿지 회귀\n",
        "from sklearn.linear_model import Ridge\n",
        "ridge = Ridge()\n",
        "ridge.fit(train_scaled,train_target)\n",
        "print('릿지 회귀 train과 test')\n",
        "print(ridge.score(train_scaled,train_target))\n",
        "print(ridge.score(test_scaled,test_target))\n",
        "\n",
        "#조금더 과소적합을 만들기 위해 alpha값을 만져준다\n",
        "#모델이 학습하는 값이 아니라 사전에 우리가 지정해져야 하는 값\n",
        "#이렇게 사람이 알려줘야 하는 파라미터를 하이퍼파라미더\n",
        "\n",
        "import matplotlib.pyplot as plt\n",
        "train_score = []\n",
        "test_score = []\n",
        "\n",
        "alpha_list = [0.001,0.01,0.1,1,10,100]\n",
        "for alpha in alpha_list:\n",
        "  ridge = Ridge(alpha=alpha)\n",
        "  ridge.fit(train_scaled,train_target)\n",
        "\n",
        "  train_score.append(ridge.score(train_scaled,train_target))\n",
        "  test_score.append(ridge.score(test_scaled,test_target))\n",
        "\n",
        "\n",
        "plt.plot(np.log10(alpha_list),train_score)\n",
        "plt.plot(np.log10(alpha_list),test_score)\n",
        "plt.xlabel('alpha')\n",
        "plt.ylabel('R^2') #결정계수라고도함\n",
        "plt.show()\n",
        "\n",
        "\n",
        "\n",
        "ridge = Ridge(alpha=0.1)\n",
        "ridge.fit(train_scaled,train_target)\n",
        "print('alpha값을 고르고 뽑은 결과')\n",
        "print(ridge.score(train_scaled,train_target))\n",
        "print(ridge.score(test_scaled,test_target))\n",
        "\n",
        "from sklearn.linear_model import Lasso\n",
        "\n",
        "lasso = Lasso()\n",
        "lasso.fit(train_scaled,train_target)\n",
        "print(lasso.score(train_scaled,train_target))\n",
        "\n",
        "train_score = []\n",
        "test_score = []\n",
        "\n",
        "alpha_list = [0.001,0.01,0.1,1,10,100]\n",
        "\n",
        "for alpha in alpha_list:\n",
        "  lasso = Lasso(alpha=alpha,max_iter=10000)\n",
        "  lasso.fit(train_scaled,train_target)\n",
        "  \n",
        "  train_score.append(lasso.score(train_scaled,train_target))\n",
        "  test_score.append(lasso.score(test_scaled,test_target))\n",
        "\n",
        "\n",
        "plt.plot(np.log10(alpha_list),train_score)\n",
        "plt.plot(np.log10(alpha_list),test_score)\n",
        "plt.xlabel('alpha')\n",
        "plt.ylabel('R^2')\n",
        "plt.show()\n",
        " \n",
        "\n",
        "lasso = Lasso(alpha=10)\n",
        "lasso.fit(train_scaled,train_target)\n",
        "print(lasso.score(train_scaled,train_target))\n",
        "print(lasso.score(test_scaled,test_target))\n",
        "\n",
        "\n",
        "print(np.sum(lasso.coef_==0)) #라쏘는 특성값을 0으로도 만들어주기 때문에\n",
        "#현재 가중치가 0인갯수가 무려 40개가 나온다\n",
        "#즉 15개의 샘플만이 사용된 것\n",
        "#이러한 특징 때문에 라쏘 모델을 유용한 특성을 골라내는 용도로도 사용한다.\n",
        "\n",
        "\n",
        "##주요 용어##\n",
        "#sklearn.linear_model improt ~\n",
        "#StandardScaler 표준점수화\n",
        "#Ridge\n",
        "#Lasso\n",
        "#LinearRegression\n",
        "\n",
        "#sklearn.preprogressing import ~\n",
        "#PolynomialFeatures 특성을 여러개 만듦\n",
        "\n",
        "#sklearn.model_selection import ~\n",
        "#train_test_split\n"
      ],
      "execution_count": null,
      "outputs": [
        {
          "output_type": "stream",
          "name": "stdout",
          "text": [
            "[[1. 2. 3. 4. 6. 9.]]\n",
            "[[2. 3. 4. 6. 9.]]\n",
            "(42, 9)\n",
            "PolynomialFeatures를 사용해 특성을 늘린것\n",
            "0.9903183436982124\n",
            "0.9714559911594132\n",
            "(42, 55)\n",
            "특성을 degree =5 로 함으로 특성을 55개 만들었을 때 점수\n",
            "-144.40579242335605\n",
            "릿지 회귀 train과 test\n",
            "0.9896101671037343\n",
            "0.9790693977615398\n"
          ]
        },
        {
          "output_type": "display_data",
          "data": {
            "image/png": "[encoded data removed]",
            "text/plain": [
              "<Figure size 432x288 with 1 Axes>"
            ]
          },
          "metadata": {
            "needs_background": "light"
          }
        },
        {
          "output_type": "stream",
          "name": "stdout",
          "text": [
            "alpha값을 고르고 뽑은 결과\n",
            "0.9903815817570366\n",
            "0.9827976465386927\n",
            "0.9897898972080961\n"
          ]
        },
        {
          "output_type": "stream",
          "name": "stderr",
          "text": [
            "/usr/local/lib/python3.7/dist-packages/sklearn/linear_model/_coordinate_descent.py:476: ConvergenceWarning: Objective did not converge. You might want to increase the number of iterations. Duality gap: 18778.697957792876, tolerance: 518.2793833333334\n",
            "  positive)\n",
            "/usr/local/lib/python3.7/dist-packages/sklearn/linear_model/_coordinate_descent.py:476: ConvergenceWarning: Objective did not converge. You might want to increase the number of iterations. Duality gap: 12972.821345404844, tolerance: 518.2793833333334\n",
            "  positive)\n"
          ]
        },
        {
          "output_type": "display_data",
          "data": {
            "image/png": "[encoded data removed]",
            "text/plain": [
              "<Figure size 432x288 with 1 Axes>"
            ]
          },
          "metadata": {
            "needs_background": "light"
          }
        },
        {
          "output_type": "stream",
          "name": "stdout",
          "text": [
            "0.9888067471131867\n",
            "0.9824470598706695\n",
            "40\n"
          ]
        }
      ]
    },
    {
      "cell_type": "code",
      "metadata": {
        "id": "8lA3JjXNGXaj"
      },
      "source": [
        "#"
      ],
      "execution_count": null,
      "outputs": []
    }
  ]
}